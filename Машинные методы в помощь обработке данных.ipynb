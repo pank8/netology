{
 "cells": [
  {
   "cell_type": "code",
   "execution_count": 77,
   "metadata": {},
   "outputs": [],
   "source": [
    "import pandas as pd\n",
    "from sklearn.model_selection import train_test_split\n",
    "from sklearn.preprocessing import StandardScaler\n",
    "\n",
    "from sklearn.linear_model import LogisticRegression\n",
    "from sklearn.linear_model import LinearRegression\n",
    "from sklearn.tree import DecisionTreeClassifier\n",
    "from sklearn.svm import  SVC\n",
    "from sklearn.svm import SVR\n",
    "from sklearn.datasets import load_boston\n",
    "from sklearn.model_selection import cross_val_score\n",
    "from sklearn.tree import DecisionTreeRegressor\n",
    "from sklearn.metrics import accuracy_score, precision_score, recall_score, f1_score\n",
    "from sklearn.metrics import mean_squared_error\n",
    "from sklearn.metrics import r2_score\n",
    "from sklearn.metrics import mean_absolute_error\n",
    "import matplotlib.pyplot as plt"
   ]
  },
  {
   "cell_type": "code",
   "execution_count": 7,
   "metadata": {
    "scrolled": true
   },
   "outputs": [
    {
     "data": {
      "text/html": [
       "<div>\n",
       "<style scoped>\n",
       "    .dataframe tbody tr th:only-of-type {\n",
       "        vertical-align: middle;\n",
       "    }\n",
       "\n",
       "    .dataframe tbody tr th {\n",
       "        vertical-align: top;\n",
       "    }\n",
       "\n",
       "    .dataframe thead th {\n",
       "        text-align: right;\n",
       "    }\n",
       "</style>\n",
       "<table border=\"1\" class=\"dataframe\">\n",
       "  <thead>\n",
       "    <tr style=\"text-align: right;\">\n",
       "      <th></th>\n",
       "      <th>ID</th>\n",
       "      <th>crime rate</th>\n",
       "      <th>land zoned</th>\n",
       "      <th>non-retail business acres</th>\n",
       "      <th>Charles River</th>\n",
       "      <th>nitrogen oxides concentration</th>\n",
       "      <th>number of rooms</th>\n",
       "      <th>proportion of owner-occupied units</th>\n",
       "      <th>distances to employment centres</th>\n",
       "      <th>accessibility to radial highways</th>\n",
       "      <th>property-tax</th>\n",
       "      <th>pupil-teacher ratio</th>\n",
       "      <th>proportion of blacks</th>\n",
       "      <th>status of the population</th>\n",
       "      <th>value of owner-occupied homes</th>\n",
       "    </tr>\n",
       "  </thead>\n",
       "  <tbody>\n",
       "    <tr>\n",
       "      <th>0</th>\n",
       "      <td>1</td>\n",
       "      <td>0.00632</td>\n",
       "      <td>18.0</td>\n",
       "      <td>2.31</td>\n",
       "      <td>0</td>\n",
       "      <td>0.538</td>\n",
       "      <td>6.575</td>\n",
       "      <td>65.2</td>\n",
       "      <td>4.0900</td>\n",
       "      <td>1</td>\n",
       "      <td>296</td>\n",
       "      <td>15.3</td>\n",
       "      <td>396.90</td>\n",
       "      <td>4.98</td>\n",
       "      <td>24.0</td>\n",
       "    </tr>\n",
       "    <tr>\n",
       "      <th>1</th>\n",
       "      <td>2</td>\n",
       "      <td>0.02731</td>\n",
       "      <td>0.0</td>\n",
       "      <td>7.07</td>\n",
       "      <td>0</td>\n",
       "      <td>0.469</td>\n",
       "      <td>6.421</td>\n",
       "      <td>78.9</td>\n",
       "      <td>4.9671</td>\n",
       "      <td>2</td>\n",
       "      <td>242</td>\n",
       "      <td>17.8</td>\n",
       "      <td>396.90</td>\n",
       "      <td>9.14</td>\n",
       "      <td>21.6</td>\n",
       "    </tr>\n",
       "    <tr>\n",
       "      <th>2</th>\n",
       "      <td>4</td>\n",
       "      <td>0.03237</td>\n",
       "      <td>0.0</td>\n",
       "      <td>2.18</td>\n",
       "      <td>0</td>\n",
       "      <td>0.458</td>\n",
       "      <td>6.998</td>\n",
       "      <td>45.8</td>\n",
       "      <td>6.0622</td>\n",
       "      <td>3</td>\n",
       "      <td>222</td>\n",
       "      <td>18.7</td>\n",
       "      <td>394.63</td>\n",
       "      <td>2.94</td>\n",
       "      <td>33.4</td>\n",
       "    </tr>\n",
       "    <tr>\n",
       "      <th>3</th>\n",
       "      <td>5</td>\n",
       "      <td>0.06905</td>\n",
       "      <td>0.0</td>\n",
       "      <td>2.18</td>\n",
       "      <td>0</td>\n",
       "      <td>0.458</td>\n",
       "      <td>7.147</td>\n",
       "      <td>54.2</td>\n",
       "      <td>6.0622</td>\n",
       "      <td>3</td>\n",
       "      <td>222</td>\n",
       "      <td>18.7</td>\n",
       "      <td>396.90</td>\n",
       "      <td>5.33</td>\n",
       "      <td>36.2</td>\n",
       "    </tr>\n",
       "    <tr>\n",
       "      <th>4</th>\n",
       "      <td>7</td>\n",
       "      <td>0.08829</td>\n",
       "      <td>12.5</td>\n",
       "      <td>7.87</td>\n",
       "      <td>0</td>\n",
       "      <td>0.524</td>\n",
       "      <td>6.012</td>\n",
       "      <td>66.6</td>\n",
       "      <td>5.5605</td>\n",
       "      <td>5</td>\n",
       "      <td>311</td>\n",
       "      <td>15.2</td>\n",
       "      <td>395.60</td>\n",
       "      <td>12.43</td>\n",
       "      <td>22.9</td>\n",
       "    </tr>\n",
       "  </tbody>\n",
       "</table>\n",
       "</div>"
      ],
      "text/plain": [
       "   ID  crime rate  land zoned  non-retail business acres  Charles River  \\\n",
       "0   1     0.00632        18.0                       2.31              0   \n",
       "1   2     0.02731         0.0                       7.07              0   \n",
       "2   4     0.03237         0.0                       2.18              0   \n",
       "3   5     0.06905         0.0                       2.18              0   \n",
       "4   7     0.08829        12.5                       7.87              0   \n",
       "\n",
       "   nitrogen oxides concentration  number of rooms  \\\n",
       "0                          0.538            6.575   \n",
       "1                          0.469            6.421   \n",
       "2                          0.458            6.998   \n",
       "3                          0.458            7.147   \n",
       "4                          0.524            6.012   \n",
       "\n",
       "   proportion of owner-occupied units  distances to employment centres  \\\n",
       "0                                65.2                           4.0900   \n",
       "1                                78.9                           4.9671   \n",
       "2                                45.8                           6.0622   \n",
       "3                                54.2                           6.0622   \n",
       "4                                66.6                           5.5605   \n",
       "\n",
       "   accessibility to radial highways  property-tax  pupil-teacher ratio  \\\n",
       "0                                 1           296                 15.3   \n",
       "1                                 2           242                 17.8   \n",
       "2                                 3           222                 18.7   \n",
       "3                                 3           222                 18.7   \n",
       "4                                 5           311                 15.2   \n",
       "\n",
       "   proportion of blacks  status of the population  \\\n",
       "0                396.90                      4.98   \n",
       "1                396.90                      9.14   \n",
       "2                394.63                      2.94   \n",
       "3                396.90                      5.33   \n",
       "4                395.60                     12.43   \n",
       "\n",
       "   value of owner-occupied homes  \n",
       "0                           24.0  \n",
       "1                           21.6  \n",
       "2                           33.4  \n",
       "3                           36.2  \n",
       "4                           22.9  "
      ]
     },
     "execution_count": 7,
     "metadata": {},
     "output_type": "execute_result"
    }
   ],
   "source": [
    "path = r'C:\\Users\\sesa514967\\Desktop\\pthon'.replace('\\\\','/') + '/'\n",
    "df = pd.read_excel(path + 'homework.xlsx')\n",
    "df.columns = ['ID', 'crime rate', 'land zoned', 'non-retail business acres', 'Charles River', 'nitrogen oxides concentration', 'number of rooms', 'proportion of owner-occupied units', 'distances to employment centres', 'accessibility to radial highways', 'property-tax', 'pupil-teacher ratio', 'proportion of blacks', 'status of the population', 'value of owner-occupied homes']\n",
    "df.head()"
   ]
  },
  {
   "cell_type": "markdown",
   "metadata": {},
   "source": [
    "посмотрим инф по данным"
   ]
  },
  {
   "cell_type": "code",
   "execution_count": 8,
   "metadata": {
    "scrolled": false
   },
   "outputs": [
    {
     "name": "stdout",
     "output_type": "stream",
     "text": [
      "<class 'pandas.core.frame.DataFrame'>\n",
      "RangeIndex: 333 entries, 0 to 332\n",
      "Data columns (total 15 columns):\n",
      "ID                                    333 non-null int64\n",
      "crime rate                            333 non-null float64\n",
      "land zoned                            333 non-null float64\n",
      "non-retail business acres             333 non-null float64\n",
      "Charles River                         333 non-null int64\n",
      "nitrogen oxides concentration         333 non-null float64\n",
      "number of rooms                       333 non-null float64\n",
      "proportion of owner-occupied units    333 non-null float64\n",
      "distances to employment centres       333 non-null float64\n",
      "accessibility to radial highways      333 non-null int64\n",
      "property-tax                          333 non-null int64\n",
      "pupil-teacher ratio                   333 non-null float64\n",
      "proportion of blacks                  333 non-null float64\n",
      "status of the population              333 non-null float64\n",
      "value of owner-occupied homes         333 non-null float64\n",
      "dtypes: float64(11), int64(4)\n",
      "memory usage: 39.1 KB\n"
     ]
    }
   ],
   "source": [
    "df.info()"
   ]
  },
  {
   "cell_type": "markdown",
   "metadata": {},
   "source": [
    "пустых значений нет"
   ]
  },
  {
   "cell_type": "code",
   "execution_count": 9,
   "metadata": {},
   "outputs": [
    {
     "name": "stdout",
     "output_type": "stream",
     "text": [
      "<class 'pandas.core.frame.DataFrame'>\n",
      "RangeIndex: 333 entries, 0 to 332\n",
      "Data columns (total 15 columns):\n",
      "ID                                    333 non-null int32\n",
      "crime rate                            333 non-null int32\n",
      "land zoned                            333 non-null int32\n",
      "non-retail business acres             333 non-null int32\n",
      "Charles River                         333 non-null int32\n",
      "nitrogen oxides concentration         333 non-null int32\n",
      "number of rooms                       333 non-null int32\n",
      "proportion of owner-occupied units    333 non-null int32\n",
      "distances to employment centres       333 non-null int32\n",
      "accessibility to radial highways      333 non-null int32\n",
      "property-tax                          333 non-null int32\n",
      "pupil-teacher ratio                   333 non-null int32\n",
      "proportion of blacks                  333 non-null int32\n",
      "status of the population              333 non-null int32\n",
      "value of owner-occupied homes         333 non-null int32\n",
      "dtypes: int32(15)\n",
      "memory usage: 19.6 KB\n"
     ]
    }
   ],
   "source": [
    "df[list(['ID', 'crime rate', 'land zoned', 'non-retail business acres', 'Charles River', 'nitrogen oxides concentration', 'number of rooms', 'proportion of owner-occupied units', 'distances to employment centres', 'accessibility to radial highways', 'property-tax', 'pupil-teacher ratio', 'proportion of blacks', 'status of the population', 'value of owner-occupied homes'])] = df[list(['ID', 'crime rate', 'land zoned', 'non-retail business acres', 'Charles River', 'nitrogen oxides concentration', 'number of rooms', 'proportion of owner-occupied units', 'distances to employment centres', 'accessibility to radial highways', 'property-tax', 'pupil-teacher ratio', 'proportion of blacks', 'status of the population', 'value of owner-occupied homes'])].astype(int)\n",
    "df.info()"
   ]
  },
  {
   "cell_type": "markdown",
   "metadata": {},
   "source": [
    "посмотрим стат значения"
   ]
  },
  {
   "cell_type": "code",
   "execution_count": 10,
   "metadata": {},
   "outputs": [
    {
     "data": {
      "text/html": [
       "<div>\n",
       "<style scoped>\n",
       "    .dataframe tbody tr th:only-of-type {\n",
       "        vertical-align: middle;\n",
       "    }\n",
       "\n",
       "    .dataframe tbody tr th {\n",
       "        vertical-align: top;\n",
       "    }\n",
       "\n",
       "    .dataframe thead th {\n",
       "        text-align: right;\n",
       "    }\n",
       "</style>\n",
       "<table border=\"1\" class=\"dataframe\">\n",
       "  <thead>\n",
       "    <tr style=\"text-align: right;\">\n",
       "      <th></th>\n",
       "      <th>ID</th>\n",
       "      <th>crime rate</th>\n",
       "      <th>land zoned</th>\n",
       "      <th>non-retail business acres</th>\n",
       "      <th>Charles River</th>\n",
       "      <th>nitrogen oxides concentration</th>\n",
       "      <th>number of rooms</th>\n",
       "      <th>proportion of owner-occupied units</th>\n",
       "      <th>distances to employment centres</th>\n",
       "      <th>accessibility to radial highways</th>\n",
       "      <th>property-tax</th>\n",
       "      <th>pupil-teacher ratio</th>\n",
       "      <th>proportion of blacks</th>\n",
       "      <th>status of the population</th>\n",
       "      <th>value of owner-occupied homes</th>\n",
       "    </tr>\n",
       "  </thead>\n",
       "  <tbody>\n",
       "    <tr>\n",
       "      <th>count</th>\n",
       "      <td>333.000000</td>\n",
       "      <td>333.000000</td>\n",
       "      <td>333.000000</td>\n",
       "      <td>333.000000</td>\n",
       "      <td>333.000000</td>\n",
       "      <td>333.0</td>\n",
       "      <td>333.000000</td>\n",
       "      <td>333.000000</td>\n",
       "      <td>333.000000</td>\n",
       "      <td>333.000000</td>\n",
       "      <td>333.000000</td>\n",
       "      <td>333.000000</td>\n",
       "      <td>333.000000</td>\n",
       "      <td>333.000000</td>\n",
       "      <td>333.000000</td>\n",
       "    </tr>\n",
       "    <tr>\n",
       "      <th>mean</th>\n",
       "      <td>250.951952</td>\n",
       "      <td>3.063063</td>\n",
       "      <td>10.675676</td>\n",
       "      <td>10.870871</td>\n",
       "      <td>0.060060</td>\n",
       "      <td>0.0</td>\n",
       "      <td>5.774775</td>\n",
       "      <td>67.798799</td>\n",
       "      <td>3.213213</td>\n",
       "      <td>9.633634</td>\n",
       "      <td>409.279279</td>\n",
       "      <td>18.075075</td>\n",
       "      <td>358.864865</td>\n",
       "      <td>12.015015</td>\n",
       "      <td>22.348348</td>\n",
       "    </tr>\n",
       "    <tr>\n",
       "      <th>std</th>\n",
       "      <td>147.859438</td>\n",
       "      <td>7.262645</td>\n",
       "      <td>22.666185</td>\n",
       "      <td>7.061146</td>\n",
       "      <td>0.237956</td>\n",
       "      <td>0.0</td>\n",
       "      <td>0.787913</td>\n",
       "      <td>28.196146</td>\n",
       "      <td>2.022361</td>\n",
       "      <td>8.742174</td>\n",
       "      <td>170.841988</td>\n",
       "      <td>2.262265</td>\n",
       "      <td>86.546194</td>\n",
       "      <td>7.071265</td>\n",
       "      <td>9.224050</td>\n",
       "    </tr>\n",
       "    <tr>\n",
       "      <th>min</th>\n",
       "      <td>1.000000</td>\n",
       "      <td>0.000000</td>\n",
       "      <td>0.000000</td>\n",
       "      <td>0.000000</td>\n",
       "      <td>0.000000</td>\n",
       "      <td>0.0</td>\n",
       "      <td>3.000000</td>\n",
       "      <td>6.000000</td>\n",
       "      <td>1.000000</td>\n",
       "      <td>1.000000</td>\n",
       "      <td>188.000000</td>\n",
       "      <td>12.000000</td>\n",
       "      <td>3.000000</td>\n",
       "      <td>1.000000</td>\n",
       "      <td>5.000000</td>\n",
       "    </tr>\n",
       "    <tr>\n",
       "      <th>25%</th>\n",
       "      <td>123.000000</td>\n",
       "      <td>0.000000</td>\n",
       "      <td>0.000000</td>\n",
       "      <td>5.000000</td>\n",
       "      <td>0.000000</td>\n",
       "      <td>0.0</td>\n",
       "      <td>5.000000</td>\n",
       "      <td>45.000000</td>\n",
       "      <td>2.000000</td>\n",
       "      <td>4.000000</td>\n",
       "      <td>279.000000</td>\n",
       "      <td>17.000000</td>\n",
       "      <td>376.000000</td>\n",
       "      <td>7.000000</td>\n",
       "      <td>17.000000</td>\n",
       "    </tr>\n",
       "    <tr>\n",
       "      <th>50%</th>\n",
       "      <td>244.000000</td>\n",
       "      <td>0.000000</td>\n",
       "      <td>0.000000</td>\n",
       "      <td>9.000000</td>\n",
       "      <td>0.000000</td>\n",
       "      <td>0.0</td>\n",
       "      <td>6.000000</td>\n",
       "      <td>76.000000</td>\n",
       "      <td>3.000000</td>\n",
       "      <td>5.000000</td>\n",
       "      <td>330.000000</td>\n",
       "      <td>19.000000</td>\n",
       "      <td>392.000000</td>\n",
       "      <td>10.000000</td>\n",
       "      <td>21.000000</td>\n",
       "    </tr>\n",
       "    <tr>\n",
       "      <th>75%</th>\n",
       "      <td>377.000000</td>\n",
       "      <td>3.000000</td>\n",
       "      <td>12.000000</td>\n",
       "      <td>18.000000</td>\n",
       "      <td>0.000000</td>\n",
       "      <td>0.0</td>\n",
       "      <td>6.000000</td>\n",
       "      <td>93.000000</td>\n",
       "      <td>5.000000</td>\n",
       "      <td>24.000000</td>\n",
       "      <td>666.000000</td>\n",
       "      <td>20.000000</td>\n",
       "      <td>396.000000</td>\n",
       "      <td>16.000000</td>\n",
       "      <td>25.000000</td>\n",
       "    </tr>\n",
       "    <tr>\n",
       "      <th>max</th>\n",
       "      <td>506.000000</td>\n",
       "      <td>73.000000</td>\n",
       "      <td>100.000000</td>\n",
       "      <td>27.000000</td>\n",
       "      <td>1.000000</td>\n",
       "      <td>0.0</td>\n",
       "      <td>8.000000</td>\n",
       "      <td>100.000000</td>\n",
       "      <td>10.000000</td>\n",
       "      <td>24.000000</td>\n",
       "      <td>711.000000</td>\n",
       "      <td>21.000000</td>\n",
       "      <td>396.000000</td>\n",
       "      <td>37.000000</td>\n",
       "      <td>50.000000</td>\n",
       "    </tr>\n",
       "  </tbody>\n",
       "</table>\n",
       "</div>"
      ],
      "text/plain": [
       "               ID  crime rate  land zoned  non-retail business acres  \\\n",
       "count  333.000000  333.000000  333.000000                 333.000000   \n",
       "mean   250.951952    3.063063   10.675676                  10.870871   \n",
       "std    147.859438    7.262645   22.666185                   7.061146   \n",
       "min      1.000000    0.000000    0.000000                   0.000000   \n",
       "25%    123.000000    0.000000    0.000000                   5.000000   \n",
       "50%    244.000000    0.000000    0.000000                   9.000000   \n",
       "75%    377.000000    3.000000   12.000000                  18.000000   \n",
       "max    506.000000   73.000000  100.000000                  27.000000   \n",
       "\n",
       "       Charles River  nitrogen oxides concentration  number of rooms  \\\n",
       "count     333.000000                          333.0       333.000000   \n",
       "mean        0.060060                            0.0         5.774775   \n",
       "std         0.237956                            0.0         0.787913   \n",
       "min         0.000000                            0.0         3.000000   \n",
       "25%         0.000000                            0.0         5.000000   \n",
       "50%         0.000000                            0.0         6.000000   \n",
       "75%         0.000000                            0.0         6.000000   \n",
       "max         1.000000                            0.0         8.000000   \n",
       "\n",
       "       proportion of owner-occupied units  distances to employment centres  \\\n",
       "count                          333.000000                       333.000000   \n",
       "mean                            67.798799                         3.213213   \n",
       "std                             28.196146                         2.022361   \n",
       "min                              6.000000                         1.000000   \n",
       "25%                             45.000000                         2.000000   \n",
       "50%                             76.000000                         3.000000   \n",
       "75%                             93.000000                         5.000000   \n",
       "max                            100.000000                        10.000000   \n",
       "\n",
       "       accessibility to radial highways  property-tax  pupil-teacher ratio  \\\n",
       "count                        333.000000    333.000000           333.000000   \n",
       "mean                           9.633634    409.279279            18.075075   \n",
       "std                            8.742174    170.841988             2.262265   \n",
       "min                            1.000000    188.000000            12.000000   \n",
       "25%                            4.000000    279.000000            17.000000   \n",
       "50%                            5.000000    330.000000            19.000000   \n",
       "75%                           24.000000    666.000000            20.000000   \n",
       "max                           24.000000    711.000000            21.000000   \n",
       "\n",
       "       proportion of blacks  status of the population  \\\n",
       "count            333.000000                333.000000   \n",
       "mean             358.864865                 12.015015   \n",
       "std               86.546194                  7.071265   \n",
       "min                3.000000                  1.000000   \n",
       "25%              376.000000                  7.000000   \n",
       "50%              392.000000                 10.000000   \n",
       "75%              396.000000                 16.000000   \n",
       "max              396.000000                 37.000000   \n",
       "\n",
       "       value of owner-occupied homes  \n",
       "count                     333.000000  \n",
       "mean                       22.348348  \n",
       "std                         9.224050  \n",
       "min                         5.000000  \n",
       "25%                        17.000000  \n",
       "50%                        21.000000  \n",
       "75%                        25.000000  \n",
       "max                        50.000000  "
      ]
     },
     "execution_count": 10,
     "metadata": {},
     "output_type": "execute_result"
    }
   ],
   "source": [
    "df.describe()"
   ]
  },
  {
   "cell_type": "code",
   "execution_count": 11,
   "metadata": {},
   "outputs": [
    {
     "data": {
      "text/plain": [
       "Index(['ID', 'crime rate', 'land zoned', 'non-retail business acres',\n",
       "       'Charles River', 'nitrogen oxides concentration', 'number of rooms',\n",
       "       'proportion of owner-occupied units', 'distances to employment centres',\n",
       "       'accessibility to radial highways', 'property-tax',\n",
       "       'pupil-teacher ratio', 'proportion of blacks',\n",
       "       'status of the population', 'value of owner-occupied homes'],\n",
       "      dtype='object')"
      ]
     },
     "execution_count": 11,
     "metadata": {},
     "output_type": "execute_result"
    }
   ],
   "source": [
    "df.columns"
   ]
  },
  {
   "cell_type": "markdown",
   "metadata": {},
   "source": [
    "признаки и целевая переменная"
   ]
  },
  {
   "cell_type": "code",
   "execution_count": 12,
   "metadata": {},
   "outputs": [],
   "source": [
    "X, y = df[['ID', 'crime rate', 'land zoned', 'non-retail business acres', 'Charles River', 'nitrogen oxides concentration', 'number of rooms', 'proportion of owner-occupied units', 'distances to employment centres', 'accessibility to radial highways', 'property-tax', 'pupil-teacher ratio', 'proportion of blacks', 'status of the population']], df['value of owner-occupied homes']"
   ]
  },
  {
   "cell_type": "code",
   "execution_count": 119,
   "metadata": {},
   "outputs": [
    {
     "data": {
      "text/html": [
       "<div>\n",
       "<style scoped>\n",
       "    .dataframe tbody tr th:only-of-type {\n",
       "        vertical-align: middle;\n",
       "    }\n",
       "\n",
       "    .dataframe tbody tr th {\n",
       "        vertical-align: top;\n",
       "    }\n",
       "\n",
       "    .dataframe thead th {\n",
       "        text-align: right;\n",
       "    }\n",
       "</style>\n",
       "<table border=\"1\" class=\"dataframe\">\n",
       "  <thead>\n",
       "    <tr style=\"text-align: right;\">\n",
       "      <th></th>\n",
       "      <th>ID</th>\n",
       "      <th>crime rate</th>\n",
       "      <th>land zoned</th>\n",
       "      <th>non-retail business acres</th>\n",
       "      <th>Charles River</th>\n",
       "      <th>nitrogen oxides concentration</th>\n",
       "      <th>number of rooms</th>\n",
       "      <th>proportion of owner-occupied units</th>\n",
       "      <th>distances to employment centres</th>\n",
       "      <th>accessibility to radial highways</th>\n",
       "      <th>property-tax</th>\n",
       "      <th>pupil-teacher ratio</th>\n",
       "      <th>proportion of blacks</th>\n",
       "      <th>status of the population</th>\n",
       "    </tr>\n",
       "  </thead>\n",
       "  <tbody>\n",
       "    <tr>\n",
       "      <th>0</th>\n",
       "      <td>1</td>\n",
       "      <td>0</td>\n",
       "      <td>18</td>\n",
       "      <td>2</td>\n",
       "      <td>0</td>\n",
       "      <td>0</td>\n",
       "      <td>6</td>\n",
       "      <td>65</td>\n",
       "      <td>4</td>\n",
       "      <td>1</td>\n",
       "      <td>296</td>\n",
       "      <td>15</td>\n",
       "      <td>396</td>\n",
       "      <td>4</td>\n",
       "    </tr>\n",
       "    <tr>\n",
       "      <th>1</th>\n",
       "      <td>2</td>\n",
       "      <td>0</td>\n",
       "      <td>0</td>\n",
       "      <td>7</td>\n",
       "      <td>0</td>\n",
       "      <td>0</td>\n",
       "      <td>6</td>\n",
       "      <td>78</td>\n",
       "      <td>4</td>\n",
       "      <td>2</td>\n",
       "      <td>242</td>\n",
       "      <td>17</td>\n",
       "      <td>396</td>\n",
       "      <td>9</td>\n",
       "    </tr>\n",
       "    <tr>\n",
       "      <th>2</th>\n",
       "      <td>4</td>\n",
       "      <td>0</td>\n",
       "      <td>0</td>\n",
       "      <td>2</td>\n",
       "      <td>0</td>\n",
       "      <td>0</td>\n",
       "      <td>6</td>\n",
       "      <td>45</td>\n",
       "      <td>6</td>\n",
       "      <td>3</td>\n",
       "      <td>222</td>\n",
       "      <td>18</td>\n",
       "      <td>394</td>\n",
       "      <td>2</td>\n",
       "    </tr>\n",
       "    <tr>\n",
       "      <th>3</th>\n",
       "      <td>5</td>\n",
       "      <td>0</td>\n",
       "      <td>0</td>\n",
       "      <td>2</td>\n",
       "      <td>0</td>\n",
       "      <td>0</td>\n",
       "      <td>7</td>\n",
       "      <td>54</td>\n",
       "      <td>6</td>\n",
       "      <td>3</td>\n",
       "      <td>222</td>\n",
       "      <td>18</td>\n",
       "      <td>396</td>\n",
       "      <td>5</td>\n",
       "    </tr>\n",
       "    <tr>\n",
       "      <th>4</th>\n",
       "      <td>7</td>\n",
       "      <td>0</td>\n",
       "      <td>12</td>\n",
       "      <td>7</td>\n",
       "      <td>0</td>\n",
       "      <td>0</td>\n",
       "      <td>6</td>\n",
       "      <td>66</td>\n",
       "      <td>5</td>\n",
       "      <td>5</td>\n",
       "      <td>311</td>\n",
       "      <td>15</td>\n",
       "      <td>395</td>\n",
       "      <td>12</td>\n",
       "    </tr>\n",
       "  </tbody>\n",
       "</table>\n",
       "</div>"
      ],
      "text/plain": [
       "   ID  crime rate  land zoned  non-retail business acres  Charles River  \\\n",
       "0   1           0          18                          2              0   \n",
       "1   2           0           0                          7              0   \n",
       "2   4           0           0                          2              0   \n",
       "3   5           0           0                          2              0   \n",
       "4   7           0          12                          7              0   \n",
       "\n",
       "   nitrogen oxides concentration  number of rooms  \\\n",
       "0                              0                6   \n",
       "1                              0                6   \n",
       "2                              0                6   \n",
       "3                              0                7   \n",
       "4                              0                6   \n",
       "\n",
       "   proportion of owner-occupied units  distances to employment centres  \\\n",
       "0                                  65                                4   \n",
       "1                                  78                                4   \n",
       "2                                  45                                6   \n",
       "3                                  54                                6   \n",
       "4                                  66                                5   \n",
       "\n",
       "   accessibility to radial highways  property-tax  pupil-teacher ratio  \\\n",
       "0                                 1           296                   15   \n",
       "1                                 2           242                   17   \n",
       "2                                 3           222                   18   \n",
       "3                                 3           222                   18   \n",
       "4                                 5           311                   15   \n",
       "\n",
       "   proportion of blacks  status of the population  \n",
       "0                   396                         4  \n",
       "1                   396                         9  \n",
       "2                   394                         2  \n",
       "3                   396                         5  \n",
       "4                   395                        12  "
      ]
     },
     "execution_count": 119,
     "metadata": {},
     "output_type": "execute_result"
    }
   ],
   "source": [
    "X.head()"
   ]
  },
  {
   "cell_type": "code",
   "execution_count": 120,
   "metadata": {},
   "outputs": [],
   "source": [
    "# Split the data into training/testing sets\n",
    "X_train = X[:-20]\n",
    "X_test = X[-20:]"
   ]
  },
  {
   "cell_type": "code",
   "execution_count": 121,
   "metadata": {},
   "outputs": [],
   "source": [
    "# Split the targets into training/testing sets\n",
    "y_train = y[:-20]\n",
    "y_test = y[-20:]"
   ]
  },
  {
   "cell_type": "code",
   "execution_count": 122,
   "metadata": {},
   "outputs": [],
   "source": [
    "sc = StandardScaler()\n",
    "X_train = sc.fit_transform(X_train)\n",
    "X_test = sc.transform(X_test)"
   ]
  },
  {
   "cell_type": "code",
   "execution_count": 123,
   "metadata": {},
   "outputs": [
    {
     "data": {
      "text/plain": [
       "array([[-1.69001937, -0.41428624,  0.28657897, ..., -1.30054964,\n",
       "         0.4375686 , -1.11125812],\n",
       "       [-1.68281634, -0.41428624, -0.49003763, ..., -0.41848672,\n",
       "         0.4375686 , -0.41000048],\n",
       "       [-1.66841028, -0.41428624, -0.49003763, ...,  0.02254474,\n",
       "         0.41502948, -1.39176118],\n",
       "       ...,\n",
       "       [ 1.70981044, -0.00821653, -0.49003763, ...,  0.90460766,\n",
       "         0.40375992,  0.29125717],\n",
       "       [ 1.7242165 ,  0.66856631, -0.49003763, ...,  0.90460766,\n",
       "        -0.05829207,  0.85226328],\n",
       "       [ 1.73862256,  0.12714004, -0.49003763, ...,  0.90460766,\n",
       "         0.4375686 ,  0.85226328]])"
      ]
     },
     "execution_count": 123,
     "metadata": {},
     "output_type": "execute_result"
    }
   ],
   "source": [
    "X_train"
   ]
  },
  {
   "cell_type": "code",
   "execution_count": 124,
   "metadata": {},
   "outputs": [],
   "source": [
    "X_train = pd.DataFrame(X_train, columns=X.columns)\n",
    "X_test = pd.DataFrame(X_test, columns=X.columns)"
   ]
  },
  {
   "cell_type": "code",
   "execution_count": 125,
   "metadata": {
    "scrolled": true
   },
   "outputs": [
    {
     "data": {
      "text/html": [
       "<div>\n",
       "<style scoped>\n",
       "    .dataframe tbody tr th:only-of-type {\n",
       "        vertical-align: middle;\n",
       "    }\n",
       "\n",
       "    .dataframe tbody tr th {\n",
       "        vertical-align: top;\n",
       "    }\n",
       "\n",
       "    .dataframe thead th {\n",
       "        text-align: right;\n",
       "    }\n",
       "</style>\n",
       "<table border=\"1\" class=\"dataframe\">\n",
       "  <thead>\n",
       "    <tr style=\"text-align: right;\">\n",
       "      <th></th>\n",
       "      <th>ID</th>\n",
       "      <th>crime rate</th>\n",
       "      <th>land zoned</th>\n",
       "      <th>non-retail business acres</th>\n",
       "      <th>Charles River</th>\n",
       "      <th>nitrogen oxides concentration</th>\n",
       "      <th>number of rooms</th>\n",
       "      <th>proportion of owner-occupied units</th>\n",
       "      <th>distances to employment centres</th>\n",
       "      <th>accessibility to radial highways</th>\n",
       "      <th>property-tax</th>\n",
       "      <th>pupil-teacher ratio</th>\n",
       "      <th>proportion of blacks</th>\n",
       "      <th>status of the population</th>\n",
       "    </tr>\n",
       "  </thead>\n",
       "  <tbody>\n",
       "    <tr>\n",
       "      <th>0</th>\n",
       "      <td>-1.690019</td>\n",
       "      <td>-0.414286</td>\n",
       "      <td>0.286579</td>\n",
       "      <td>-1.22455</td>\n",
       "      <td>-0.261265</td>\n",
       "      <td>0.0</td>\n",
       "      <td>0.256493</td>\n",
       "      <td>-0.079940</td>\n",
       "      <td>0.349878</td>\n",
       "      <td>-0.983477</td>\n",
       "      <td>-0.626064</td>\n",
       "      <td>-1.300550</td>\n",
       "      <td>0.437569</td>\n",
       "      <td>-1.111258</td>\n",
       "    </tr>\n",
       "    <tr>\n",
       "      <th>1</th>\n",
       "      <td>-1.682816</td>\n",
       "      <td>-0.414286</td>\n",
       "      <td>-0.490038</td>\n",
       "      <td>-0.50219</td>\n",
       "      <td>-0.261265</td>\n",
       "      <td>0.0</td>\n",
       "      <td>0.256493</td>\n",
       "      <td>0.374356</td>\n",
       "      <td>0.349878</td>\n",
       "      <td>-0.866919</td>\n",
       "      <td>-0.951266</td>\n",
       "      <td>-0.418487</td>\n",
       "      <td>0.437569</td>\n",
       "      <td>-0.410000</td>\n",
       "    </tr>\n",
       "    <tr>\n",
       "      <th>2</th>\n",
       "      <td>-1.668410</td>\n",
       "      <td>-0.414286</td>\n",
       "      <td>-0.490038</td>\n",
       "      <td>-1.22455</td>\n",
       "      <td>-0.261265</td>\n",
       "      <td>0.0</td>\n",
       "      <td>0.256493</td>\n",
       "      <td>-0.778858</td>\n",
       "      <td>1.323316</td>\n",
       "      <td>-0.750362</td>\n",
       "      <td>-1.071711</td>\n",
       "      <td>0.022545</td>\n",
       "      <td>0.415029</td>\n",
       "      <td>-1.391761</td>\n",
       "    </tr>\n",
       "    <tr>\n",
       "      <th>3</th>\n",
       "      <td>-1.661207</td>\n",
       "      <td>-0.414286</td>\n",
       "      <td>-0.490038</td>\n",
       "      <td>-1.22455</td>\n",
       "      <td>-0.261265</td>\n",
       "      <td>0.0</td>\n",
       "      <td>1.510904</td>\n",
       "      <td>-0.464345</td>\n",
       "      <td>1.323316</td>\n",
       "      <td>-0.750362</td>\n",
       "      <td>-1.071711</td>\n",
       "      <td>0.022545</td>\n",
       "      <td>0.437569</td>\n",
       "      <td>-0.971007</td>\n",
       "    </tr>\n",
       "    <tr>\n",
       "      <th>4</th>\n",
       "      <td>-1.646801</td>\n",
       "      <td>-0.414286</td>\n",
       "      <td>0.027707</td>\n",
       "      <td>-0.50219</td>\n",
       "      <td>-0.261265</td>\n",
       "      <td>0.0</td>\n",
       "      <td>0.256493</td>\n",
       "      <td>-0.044994</td>\n",
       "      <td>0.836597</td>\n",
       "      <td>-0.517247</td>\n",
       "      <td>-0.535731</td>\n",
       "      <td>-1.300550</td>\n",
       "      <td>0.426299</td>\n",
       "      <td>0.010754</td>\n",
       "    </tr>\n",
       "  </tbody>\n",
       "</table>\n",
       "</div>"
      ],
      "text/plain": [
       "         ID  crime rate  land zoned  non-retail business acres  Charles River  \\\n",
       "0 -1.690019   -0.414286    0.286579                   -1.22455      -0.261265   \n",
       "1 -1.682816   -0.414286   -0.490038                   -0.50219      -0.261265   \n",
       "2 -1.668410   -0.414286   -0.490038                   -1.22455      -0.261265   \n",
       "3 -1.661207   -0.414286   -0.490038                   -1.22455      -0.261265   \n",
       "4 -1.646801   -0.414286    0.027707                   -0.50219      -0.261265   \n",
       "\n",
       "   nitrogen oxides concentration  number of rooms  \\\n",
       "0                            0.0         0.256493   \n",
       "1                            0.0         0.256493   \n",
       "2                            0.0         0.256493   \n",
       "3                            0.0         1.510904   \n",
       "4                            0.0         0.256493   \n",
       "\n",
       "   proportion of owner-occupied units  distances to employment centres  \\\n",
       "0                           -0.079940                         0.349878   \n",
       "1                            0.374356                         0.349878   \n",
       "2                           -0.778858                         1.323316   \n",
       "3                           -0.464345                         1.323316   \n",
       "4                           -0.044994                         0.836597   \n",
       "\n",
       "   accessibility to radial highways  property-tax  pupil-teacher ratio  \\\n",
       "0                         -0.983477     -0.626064            -1.300550   \n",
       "1                         -0.866919     -0.951266            -0.418487   \n",
       "2                         -0.750362     -1.071711             0.022545   \n",
       "3                         -0.750362     -1.071711             0.022545   \n",
       "4                         -0.517247     -0.535731            -1.300550   \n",
       "\n",
       "   proportion of blacks  status of the population  \n",
       "0              0.437569                 -1.111258  \n",
       "1              0.437569                 -0.410000  \n",
       "2              0.415029                 -1.391761  \n",
       "3              0.437569                 -0.971007  \n",
       "4              0.426299                  0.010754  "
      ]
     },
     "execution_count": 125,
     "metadata": {},
     "output_type": "execute_result"
    }
   ],
   "source": [
    "X_train.head()"
   ]
  },
  {
   "cell_type": "code",
   "execution_count": 126,
   "metadata": {},
   "outputs": [
    {
     "data": {
      "text/plain": [
       "0    24\n",
       "1    21\n",
       "2    33\n",
       "3    36\n",
       "4    22\n",
       "Name: value of owner-occupied homes, dtype: int32"
      ]
     },
     "execution_count": 126,
     "metadata": {},
     "output_type": "execute_result"
    }
   ],
   "source": [
    "y_train.head()"
   ]
  },
  {
   "cell_type": "markdown",
   "metadata": {},
   "source": [
    "обучение"
   ]
  },
  {
   "cell_type": "markdown",
   "metadata": {},
   "source": [
    "LinearRegression"
   ]
  },
  {
   "cell_type": "code",
   "execution_count": 70,
   "metadata": {},
   "outputs": [],
   "source": [
    "# Create linear regression object\n",
    "linear = LinearRegression()"
   ]
  },
  {
   "cell_type": "code",
   "execution_count": 71,
   "metadata": {},
   "outputs": [
    {
     "data": {
      "text/plain": [
       "0.7110833673458947"
      ]
     },
     "execution_count": 71,
     "metadata": {},
     "output_type": "execute_result"
    }
   ],
   "source": [
    "# Train the model using the training sets\n",
    "reg = LinearRegression().fit(X_train, y_train)\n",
    "#the coefficient of determination R^2 of the prediction.\n",
    "reg.score(X_train, y_train)"
   ]
  },
  {
   "cell_type": "code",
   "execution_count": 74,
   "metadata": {
    "scrolled": false
   },
   "outputs": [
    {
     "data": {
      "text/plain": [
       "array([10.44827962, 17.98008354, 22.94861471, 23.19152432, 25.36023908,\n",
       "       19.54761723, 18.33248647, 20.06075624, 19.90036676,  6.32795756,\n",
       "       -2.82743816,  6.23419653,  8.81849658, 18.61141859, 17.028909  ,\n",
       "       16.24749129, 22.09971202, 22.12306883, 25.05438233, 23.59403662])"
      ]
     },
     "execution_count": 74,
     "metadata": {},
     "output_type": "execute_result"
    }
   ],
   "source": [
    "# Make predictions using the testing set\n",
    "y_pred = reg.predict(X_test)\n",
    "y_pred"
   ]
  },
  {
   "cell_type": "code",
   "execution_count": 75,
   "metadata": {
    "scrolled": false
   },
   "outputs": [
    {
     "name": "stdout",
     "output_type": "stream",
     "text": [
      "Coefficients: \n",
      " [-5.29559727e-01 -2.72860838e-01  1.49560810e+00  8.23553435e-02\n",
      "  9.55740338e-01  1.33226763e-15  1.99884921e+00 -1.21388759e-01\n",
      " -2.65492621e+00  4.30136474e+00 -3.86359453e+00 -1.56420632e+00\n",
      "  1.00918757e+00 -5.34532230e+00]\n",
      "Mean squared error: 28.57\n",
      "Variance score: -0.54\n"
     ]
    }
   ],
   "source": [
    "# The coefficients\n",
    "print('Coefficients: \\n', reg.coef_)\n",
    "# The mean squared error\n",
    "print(\"Mean squared error: %.2f\"\n",
    "      % mean_squared_error(y_test, y_pred))\n",
    "# Explained variance score: 1 is perfect prediction\n",
    "print('Variance score: %.2f' % r2_score(y_test, y_pred))"
   ]
  },
  {
   "cell_type": "markdown",
   "metadata": {},
   "source": [
    "SVR"
   ]
  },
  {
   "cell_type": "code",
   "execution_count": 85,
   "metadata": {},
   "outputs": [
    {
     "name": "stdout",
     "output_type": "stream",
     "text": [
      "SVR(C=1.0, cache_size=200, coef0=0.0, degree=3, epsilon=0.1, gamma='auto',\n",
      "  kernel='rbf', max_iter=-1, shrinking=True, tol=0.001, verbose=False)\n"
     ]
    }
   ],
   "source": [
    "# Fit regression model\n",
    "model = SVR()\n",
    "print(model)"
   ]
  },
  {
   "cell_type": "code",
   "execution_count": 86,
   "metadata": {},
   "outputs": [],
   "source": [
    "# Fit the model\n",
    "model.fit(X_train, y_train)\n",
    "pred_y = model.predict(X_test)"
   ]
  },
  {
   "cell_type": "code",
   "execution_count": 106,
   "metadata": {
    "scrolled": false
   },
   "outputs": [
    {
     "name": "stdout",
     "output_type": "stream",
     "text": [
      "12 11.3975429266732\n",
      "14 14.987224908997895\n",
      "21 16.684986070842914\n",
      "23 20.57921687876453\n",
      "23 21.357697996184\n",
      "21 20.914911829717294\n",
      "20 19.929141158032845\n",
      "19 18.461806706750245\n",
      "20 20.02275963276872\n",
      "15 17.915846084148978\n",
      "8 15.89517959224038\n",
      "13 17.810783188403704\n",
      "20 19.298454993506404\n",
      "21 19.76976595484444\n",
      "18 18.811899979574676\n",
      "17 18.457692237055323\n",
      "22 21.41583580156793\n",
      "20 21.32568908935958\n",
      "23 22.072798236983\n",
      "11 21.759815969063197\n"
     ]
    }
   ],
   "source": [
    "for y_original, y_predicted in zip(y_test, pred_y):\n",
    "    print(y_original,y_predicted)"
   ]
  },
  {
   "cell_type": "code",
   "execution_count": 112,
   "metadata": {},
   "outputs": [
    {
     "name": "stdout",
     "output_type": "stream",
     "text": [
      "Mean Squared Error: 12.315903810669187\n"
     ]
    }
   ],
   "source": [
    "mse =mean_squared_error(y_test, pred_y)\n",
    "print(\"Mean Squared Error:\",mse)"
   ]
  },
  {
   "cell_type": "markdown",
   "metadata": {},
   "source": [
    "DecisionTreeRegressor"
   ]
  },
  {
   "cell_type": "code",
   "execution_count": 129,
   "metadata": {},
   "outputs": [
    {
     "data": {
      "text/plain": [
       "DecisionTreeRegressor(criterion='mse', max_depth=5, max_features=None,\n",
       "           max_leaf_nodes=None, min_impurity_decrease=0.0,\n",
       "           min_impurity_split=None, min_samples_leaf=1,\n",
       "           min_samples_split=2, min_weight_fraction_leaf=0.0,\n",
       "           presort=False, random_state=None, splitter='best')"
      ]
     },
     "execution_count": 129,
     "metadata": {},
     "output_type": "execute_result"
    }
   ],
   "source": [
    "# Fit regression model\n",
    "regr_1 = DecisionTreeRegressor(max_depth=2)\n",
    "regr_2 = DecisionTreeRegressor(max_depth=5)\n",
    "regr_1.fit(X_train, y_train)\n",
    "regr_2.fit(X_train, y_train)\n"
   ]
  },
  {
   "cell_type": "code",
   "execution_count": 137,
   "metadata": {},
   "outputs": [
    {
     "name": "stdout",
     "output_type": "stream",
     "text": [
      "[13.61904762 13.61904762 20.11494253 20.11494253 25.78846154 20.11494253\n",
      " 20.11494253 20.11494253 20.11494253 13.61904762 13.61904762 13.61904762\n",
      " 20.11494253 20.11494253 20.11494253 20.11494253 25.78846154 25.78846154\n",
      " 25.78846154 25.78846154]\n",
      "[19.         12.         21.02439024 21.02439024 50.         21.02439024\n",
      " 21.02439024 21.02439024 21.02439024 15.63157895 15.63157895 15.63157895\n",
      " 21.02439024 21.02439024 21.02439024 21.02439024 50.         50.\n",
      " 50.         50.        ]\n"
     ]
    }
   ],
   "source": [
    "# Predict\n",
    "y_1 = regr_1.predict(X_test)\n",
    "y_2 = regr_2.predict(X_test)\n",
    "print(y_1)\n",
    "print(y_2)"
   ]
  },
  {
   "cell_type": "code",
   "execution_count": 138,
   "metadata": {},
   "outputs": [
    {
     "name": "stdout",
     "output_type": "stream",
     "text": [
      "Mean Squared Error: 17.24354306624078\n",
      "Mean Squared Error: 240.90294253354668\n"
     ]
    }
   ],
   "source": [
    "mse =mean_squared_error(y_test, y_1)\n",
    "print(\"Mean Squared Error:\",mse)\n",
    "mse =mean_squared_error(y_test, y_2)\n",
    "print(\"Mean Squared Error:\",mse)"
   ]
  },
  {
   "cell_type": "code",
   "execution_count": null,
   "metadata": {},
   "outputs": [],
   "source": []
  }
 ],
 "metadata": {
  "kernelspec": {
   "display_name": "Python 3",
   "language": "python",
   "name": "python3"
  },
  "language_info": {
   "codemirror_mode": {
    "name": "ipython",
    "version": 3
   },
   "file_extension": ".py",
   "mimetype": "text/x-python",
   "name": "python",
   "nbconvert_exporter": "python",
   "pygments_lexer": "ipython3",
   "version": "3.7.0"
  }
 },
 "nbformat": 4,
 "nbformat_minor": 2
}
