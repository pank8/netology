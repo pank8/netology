{
 "cells": [
  {
   "cell_type": "code",
   "execution_count": 85,
   "metadata": {},
   "outputs": [],
   "source": [
    "import pandas as pd\n",
    "from sklearn.model_selection import train_test_split\n",
    "from sklearn.preprocessing import StandardScaler\n",
    "\n",
    "from sklearn.linear_model import LogisticRegression\n",
    "from sklearn.tree import DecisionTreeClassifier\n",
    "from sklearn.svm import  SVC\n",
    "from sklearn.metrics import accuracy_score, precision_score, recall_score, f1_score"
   ]
  },
  {
   "cell_type": "code",
   "execution_count": 66,
   "metadata": {
    "scrolled": true
   },
   "outputs": [
    {
     "data": {
      "text/html": [
       "<div>\n",
       "<style scoped>\n",
       "    .dataframe tbody tr th:only-of-type {\n",
       "        vertical-align: middle;\n",
       "    }\n",
       "\n",
       "    .dataframe tbody tr th {\n",
       "        vertical-align: top;\n",
       "    }\n",
       "\n",
       "    .dataframe thead th {\n",
       "        text-align: right;\n",
       "    }\n",
       "</style>\n",
       "<table border=\"1\" class=\"dataframe\">\n",
       "  <thead>\n",
       "    <tr style=\"text-align: right;\">\n",
       "      <th></th>\n",
       "      <th>ID</th>\n",
       "      <th>crime rate</th>\n",
       "      <th>land zoned</th>\n",
       "      <th>non-retail business acres</th>\n",
       "      <th>Charles River</th>\n",
       "      <th>nitrogen oxides concentration</th>\n",
       "      <th>number of rooms</th>\n",
       "      <th>proportion of owner-occupied units</th>\n",
       "      <th>distances to employment centres</th>\n",
       "      <th>accessibility to radial highways</th>\n",
       "      <th>property-tax</th>\n",
       "      <th>pupil-teacher ratio</th>\n",
       "      <th>proportion of blacks</th>\n",
       "      <th>status of the population</th>\n",
       "      <th>value of owner-occupied homes</th>\n",
       "    </tr>\n",
       "  </thead>\n",
       "  <tbody>\n",
       "    <tr>\n",
       "      <th>0</th>\n",
       "      <td>1</td>\n",
       "      <td>0.00632</td>\n",
       "      <td>18.0</td>\n",
       "      <td>2.31</td>\n",
       "      <td>0</td>\n",
       "      <td>0.538</td>\n",
       "      <td>6.575</td>\n",
       "      <td>65.2</td>\n",
       "      <td>4.0900</td>\n",
       "      <td>1</td>\n",
       "      <td>296</td>\n",
       "      <td>15.3</td>\n",
       "      <td>396.90</td>\n",
       "      <td>4.98</td>\n",
       "      <td>24.0</td>\n",
       "    </tr>\n",
       "    <tr>\n",
       "      <th>1</th>\n",
       "      <td>2</td>\n",
       "      <td>0.02731</td>\n",
       "      <td>0.0</td>\n",
       "      <td>7.07</td>\n",
       "      <td>0</td>\n",
       "      <td>0.469</td>\n",
       "      <td>6.421</td>\n",
       "      <td>78.9</td>\n",
       "      <td>4.9671</td>\n",
       "      <td>2</td>\n",
       "      <td>242</td>\n",
       "      <td>17.8</td>\n",
       "      <td>396.90</td>\n",
       "      <td>9.14</td>\n",
       "      <td>21.6</td>\n",
       "    </tr>\n",
       "    <tr>\n",
       "      <th>2</th>\n",
       "      <td>4</td>\n",
       "      <td>0.03237</td>\n",
       "      <td>0.0</td>\n",
       "      <td>2.18</td>\n",
       "      <td>0</td>\n",
       "      <td>0.458</td>\n",
       "      <td>6.998</td>\n",
       "      <td>45.8</td>\n",
       "      <td>6.0622</td>\n",
       "      <td>3</td>\n",
       "      <td>222</td>\n",
       "      <td>18.7</td>\n",
       "      <td>394.63</td>\n",
       "      <td>2.94</td>\n",
       "      <td>33.4</td>\n",
       "    </tr>\n",
       "    <tr>\n",
       "      <th>3</th>\n",
       "      <td>5</td>\n",
       "      <td>0.06905</td>\n",
       "      <td>0.0</td>\n",
       "      <td>2.18</td>\n",
       "      <td>0</td>\n",
       "      <td>0.458</td>\n",
       "      <td>7.147</td>\n",
       "      <td>54.2</td>\n",
       "      <td>6.0622</td>\n",
       "      <td>3</td>\n",
       "      <td>222</td>\n",
       "      <td>18.7</td>\n",
       "      <td>396.90</td>\n",
       "      <td>5.33</td>\n",
       "      <td>36.2</td>\n",
       "    </tr>\n",
       "    <tr>\n",
       "      <th>4</th>\n",
       "      <td>7</td>\n",
       "      <td>0.08829</td>\n",
       "      <td>12.5</td>\n",
       "      <td>7.87</td>\n",
       "      <td>0</td>\n",
       "      <td>0.524</td>\n",
       "      <td>6.012</td>\n",
       "      <td>66.6</td>\n",
       "      <td>5.5605</td>\n",
       "      <td>5</td>\n",
       "      <td>311</td>\n",
       "      <td>15.2</td>\n",
       "      <td>395.60</td>\n",
       "      <td>12.43</td>\n",
       "      <td>22.9</td>\n",
       "    </tr>\n",
       "  </tbody>\n",
       "</table>\n",
       "</div>"
      ],
      "text/plain": [
       "   ID  crime rate  land zoned  non-retail business acres  Charles River  \\\n",
       "0   1     0.00632        18.0                       2.31              0   \n",
       "1   2     0.02731         0.0                       7.07              0   \n",
       "2   4     0.03237         0.0                       2.18              0   \n",
       "3   5     0.06905         0.0                       2.18              0   \n",
       "4   7     0.08829        12.5                       7.87              0   \n",
       "\n",
       "   nitrogen oxides concentration  number of rooms  \\\n",
       "0                          0.538            6.575   \n",
       "1                          0.469            6.421   \n",
       "2                          0.458            6.998   \n",
       "3                          0.458            7.147   \n",
       "4                          0.524            6.012   \n",
       "\n",
       "   proportion of owner-occupied units  distances to employment centres  \\\n",
       "0                                65.2                           4.0900   \n",
       "1                                78.9                           4.9671   \n",
       "2                                45.8                           6.0622   \n",
       "3                                54.2                           6.0622   \n",
       "4                                66.6                           5.5605   \n",
       "\n",
       "   accessibility to radial highways  property-tax  pupil-teacher ratio  \\\n",
       "0                                 1           296                 15.3   \n",
       "1                                 2           242                 17.8   \n",
       "2                                 3           222                 18.7   \n",
       "3                                 3           222                 18.7   \n",
       "4                                 5           311                 15.2   \n",
       "\n",
       "   proportion of blacks  status of the population  \\\n",
       "0                396.90                      4.98   \n",
       "1                396.90                      9.14   \n",
       "2                394.63                      2.94   \n",
       "3                396.90                      5.33   \n",
       "4                395.60                     12.43   \n",
       "\n",
       "   value of owner-occupied homes  \n",
       "0                           24.0  \n",
       "1                           21.6  \n",
       "2                           33.4  \n",
       "3                           36.2  \n",
       "4                           22.9  "
      ]
     },
     "execution_count": 66,
     "metadata": {},
     "output_type": "execute_result"
    }
   ],
   "source": [
    "path = r'C:\\Users\\sesa514967\\Desktop\\pthon'.replace('\\\\','/') + '/'\n",
    "df = pd.read_excel(path + 'homework.xlsx')\n",
    "df.columns = ['ID', 'crime rate', 'land zoned', 'non-retail business acres', 'Charles River', 'nitrogen oxides concentration', 'number of rooms', 'proportion of owner-occupied units', 'distances to employment centres', 'accessibility to radial highways', 'property-tax', 'pupil-teacher ratio', 'proportion of blacks', 'status of the population', 'value of owner-occupied homes']\n",
    "df.head()"
   ]
  },
  {
   "cell_type": "markdown",
   "metadata": {},
   "source": [
    "посмотрим инф по данным"
   ]
  },
  {
   "cell_type": "code",
   "execution_count": 67,
   "metadata": {
    "scrolled": false
   },
   "outputs": [
    {
     "name": "stdout",
     "output_type": "stream",
     "text": [
      "<class 'pandas.core.frame.DataFrame'>\n",
      "RangeIndex: 333 entries, 0 to 332\n",
      "Data columns (total 15 columns):\n",
      "ID                                    333 non-null int64\n",
      "crime rate                            333 non-null float64\n",
      "land zoned                            333 non-null float64\n",
      "non-retail business acres             333 non-null float64\n",
      "Charles River                         333 non-null int64\n",
      "nitrogen oxides concentration         333 non-null float64\n",
      "number of rooms                       333 non-null float64\n",
      "proportion of owner-occupied units    333 non-null float64\n",
      "distances to employment centres       333 non-null float64\n",
      "accessibility to radial highways      333 non-null int64\n",
      "property-tax                          333 non-null int64\n",
      "pupil-teacher ratio                   333 non-null float64\n",
      "proportion of blacks                  333 non-null float64\n",
      "status of the population              333 non-null float64\n",
      "value of owner-occupied homes         333 non-null float64\n",
      "dtypes: float64(11), int64(4)\n",
      "memory usage: 39.1 KB\n"
     ]
    }
   ],
   "source": [
    "df.info()"
   ]
  },
  {
   "cell_type": "markdown",
   "metadata": {},
   "source": [
    "пустых значений нет"
   ]
  },
  {
   "cell_type": "code",
   "execution_count": 69,
   "metadata": {},
   "outputs": [
    {
     "name": "stdout",
     "output_type": "stream",
     "text": [
      "<class 'pandas.core.frame.DataFrame'>\n",
      "RangeIndex: 333 entries, 0 to 332\n",
      "Data columns (total 15 columns):\n",
      "ID                                    333 non-null int32\n",
      "crime rate                            333 non-null int32\n",
      "land zoned                            333 non-null int32\n",
      "non-retail business acres             333 non-null int32\n",
      "Charles River                         333 non-null int32\n",
      "nitrogen oxides concentration         333 non-null int32\n",
      "number of rooms                       333 non-null int32\n",
      "proportion of owner-occupied units    333 non-null int32\n",
      "distances to employment centres       333 non-null int32\n",
      "accessibility to radial highways      333 non-null int32\n",
      "property-tax                          333 non-null int32\n",
      "pupil-teacher ratio                   333 non-null int32\n",
      "proportion of blacks                  333 non-null int32\n",
      "status of the population              333 non-null int32\n",
      "value of owner-occupied homes         333 non-null int32\n",
      "dtypes: int32(15)\n",
      "memory usage: 19.6 KB\n"
     ]
    }
   ],
   "source": [
    "df[list(['ID', 'crime rate', 'land zoned', 'non-retail business acres', 'Charles River', 'nitrogen oxides concentration', 'number of rooms', 'proportion of owner-occupied units', 'distances to employment centres', 'accessibility to radial highways', 'property-tax', 'pupil-teacher ratio', 'proportion of blacks', 'status of the population', 'value of owner-occupied homes'])] = df[list(['ID', 'crime rate', 'land zoned', 'non-retail business acres', 'Charles River', 'nitrogen oxides concentration', 'number of rooms', 'proportion of owner-occupied units', 'distances to employment centres', 'accessibility to radial highways', 'property-tax', 'pupil-teacher ratio', 'proportion of blacks', 'status of the population', 'value of owner-occupied homes'])].astype(int)\n",
    "df.info()"
   ]
  },
  {
   "cell_type": "markdown",
   "metadata": {},
   "source": [
    "посмотрим стат значения"
   ]
  },
  {
   "cell_type": "code",
   "execution_count": 70,
   "metadata": {},
   "outputs": [
    {
     "data": {
      "text/html": [
       "<div>\n",
       "<style scoped>\n",
       "    .dataframe tbody tr th:only-of-type {\n",
       "        vertical-align: middle;\n",
       "    }\n",
       "\n",
       "    .dataframe tbody tr th {\n",
       "        vertical-align: top;\n",
       "    }\n",
       "\n",
       "    .dataframe thead th {\n",
       "        text-align: right;\n",
       "    }\n",
       "</style>\n",
       "<table border=\"1\" class=\"dataframe\">\n",
       "  <thead>\n",
       "    <tr style=\"text-align: right;\">\n",
       "      <th></th>\n",
       "      <th>ID</th>\n",
       "      <th>crime rate</th>\n",
       "      <th>land zoned</th>\n",
       "      <th>non-retail business acres</th>\n",
       "      <th>Charles River</th>\n",
       "      <th>nitrogen oxides concentration</th>\n",
       "      <th>number of rooms</th>\n",
       "      <th>proportion of owner-occupied units</th>\n",
       "      <th>distances to employment centres</th>\n",
       "      <th>accessibility to radial highways</th>\n",
       "      <th>property-tax</th>\n",
       "      <th>pupil-teacher ratio</th>\n",
       "      <th>proportion of blacks</th>\n",
       "      <th>status of the population</th>\n",
       "      <th>value of owner-occupied homes</th>\n",
       "    </tr>\n",
       "  </thead>\n",
       "  <tbody>\n",
       "    <tr>\n",
       "      <th>count</th>\n",
       "      <td>333.000000</td>\n",
       "      <td>333.000000</td>\n",
       "      <td>333.000000</td>\n",
       "      <td>333.000000</td>\n",
       "      <td>333.000000</td>\n",
       "      <td>333.0</td>\n",
       "      <td>333.000000</td>\n",
       "      <td>333.000000</td>\n",
       "      <td>333.000000</td>\n",
       "      <td>333.000000</td>\n",
       "      <td>333.000000</td>\n",
       "      <td>333.000000</td>\n",
       "      <td>333.000000</td>\n",
       "      <td>333.000000</td>\n",
       "      <td>333.000000</td>\n",
       "    </tr>\n",
       "    <tr>\n",
       "      <th>mean</th>\n",
       "      <td>250.951952</td>\n",
       "      <td>3.063063</td>\n",
       "      <td>10.675676</td>\n",
       "      <td>10.870871</td>\n",
       "      <td>0.060060</td>\n",
       "      <td>0.0</td>\n",
       "      <td>5.774775</td>\n",
       "      <td>67.798799</td>\n",
       "      <td>3.213213</td>\n",
       "      <td>9.633634</td>\n",
       "      <td>409.279279</td>\n",
       "      <td>18.075075</td>\n",
       "      <td>358.864865</td>\n",
       "      <td>12.015015</td>\n",
       "      <td>22.348348</td>\n",
       "    </tr>\n",
       "    <tr>\n",
       "      <th>std</th>\n",
       "      <td>147.859438</td>\n",
       "      <td>7.262645</td>\n",
       "      <td>22.666185</td>\n",
       "      <td>7.061146</td>\n",
       "      <td>0.237956</td>\n",
       "      <td>0.0</td>\n",
       "      <td>0.787913</td>\n",
       "      <td>28.196146</td>\n",
       "      <td>2.022361</td>\n",
       "      <td>8.742174</td>\n",
       "      <td>170.841988</td>\n",
       "      <td>2.262265</td>\n",
       "      <td>86.546194</td>\n",
       "      <td>7.071265</td>\n",
       "      <td>9.224050</td>\n",
       "    </tr>\n",
       "    <tr>\n",
       "      <th>min</th>\n",
       "      <td>1.000000</td>\n",
       "      <td>0.000000</td>\n",
       "      <td>0.000000</td>\n",
       "      <td>0.000000</td>\n",
       "      <td>0.000000</td>\n",
       "      <td>0.0</td>\n",
       "      <td>3.000000</td>\n",
       "      <td>6.000000</td>\n",
       "      <td>1.000000</td>\n",
       "      <td>1.000000</td>\n",
       "      <td>188.000000</td>\n",
       "      <td>12.000000</td>\n",
       "      <td>3.000000</td>\n",
       "      <td>1.000000</td>\n",
       "      <td>5.000000</td>\n",
       "    </tr>\n",
       "    <tr>\n",
       "      <th>25%</th>\n",
       "      <td>123.000000</td>\n",
       "      <td>0.000000</td>\n",
       "      <td>0.000000</td>\n",
       "      <td>5.000000</td>\n",
       "      <td>0.000000</td>\n",
       "      <td>0.0</td>\n",
       "      <td>5.000000</td>\n",
       "      <td>45.000000</td>\n",
       "      <td>2.000000</td>\n",
       "      <td>4.000000</td>\n",
       "      <td>279.000000</td>\n",
       "      <td>17.000000</td>\n",
       "      <td>376.000000</td>\n",
       "      <td>7.000000</td>\n",
       "      <td>17.000000</td>\n",
       "    </tr>\n",
       "    <tr>\n",
       "      <th>50%</th>\n",
       "      <td>244.000000</td>\n",
       "      <td>0.000000</td>\n",
       "      <td>0.000000</td>\n",
       "      <td>9.000000</td>\n",
       "      <td>0.000000</td>\n",
       "      <td>0.0</td>\n",
       "      <td>6.000000</td>\n",
       "      <td>76.000000</td>\n",
       "      <td>3.000000</td>\n",
       "      <td>5.000000</td>\n",
       "      <td>330.000000</td>\n",
       "      <td>19.000000</td>\n",
       "      <td>392.000000</td>\n",
       "      <td>10.000000</td>\n",
       "      <td>21.000000</td>\n",
       "    </tr>\n",
       "    <tr>\n",
       "      <th>75%</th>\n",
       "      <td>377.000000</td>\n",
       "      <td>3.000000</td>\n",
       "      <td>12.000000</td>\n",
       "      <td>18.000000</td>\n",
       "      <td>0.000000</td>\n",
       "      <td>0.0</td>\n",
       "      <td>6.000000</td>\n",
       "      <td>93.000000</td>\n",
       "      <td>5.000000</td>\n",
       "      <td>24.000000</td>\n",
       "      <td>666.000000</td>\n",
       "      <td>20.000000</td>\n",
       "      <td>396.000000</td>\n",
       "      <td>16.000000</td>\n",
       "      <td>25.000000</td>\n",
       "    </tr>\n",
       "    <tr>\n",
       "      <th>max</th>\n",
       "      <td>506.000000</td>\n",
       "      <td>73.000000</td>\n",
       "      <td>100.000000</td>\n",
       "      <td>27.000000</td>\n",
       "      <td>1.000000</td>\n",
       "      <td>0.0</td>\n",
       "      <td>8.000000</td>\n",
       "      <td>100.000000</td>\n",
       "      <td>10.000000</td>\n",
       "      <td>24.000000</td>\n",
       "      <td>711.000000</td>\n",
       "      <td>21.000000</td>\n",
       "      <td>396.000000</td>\n",
       "      <td>37.000000</td>\n",
       "      <td>50.000000</td>\n",
       "    </tr>\n",
       "  </tbody>\n",
       "</table>\n",
       "</div>"
      ],
      "text/plain": [
       "               ID  crime rate  land zoned  non-retail business acres  \\\n",
       "count  333.000000  333.000000  333.000000                 333.000000   \n",
       "mean   250.951952    3.063063   10.675676                  10.870871   \n",
       "std    147.859438    7.262645   22.666185                   7.061146   \n",
       "min      1.000000    0.000000    0.000000                   0.000000   \n",
       "25%    123.000000    0.000000    0.000000                   5.000000   \n",
       "50%    244.000000    0.000000    0.000000                   9.000000   \n",
       "75%    377.000000    3.000000   12.000000                  18.000000   \n",
       "max    506.000000   73.000000  100.000000                  27.000000   \n",
       "\n",
       "       Charles River  nitrogen oxides concentration  number of rooms  \\\n",
       "count     333.000000                          333.0       333.000000   \n",
       "mean        0.060060                            0.0         5.774775   \n",
       "std         0.237956                            0.0         0.787913   \n",
       "min         0.000000                            0.0         3.000000   \n",
       "25%         0.000000                            0.0         5.000000   \n",
       "50%         0.000000                            0.0         6.000000   \n",
       "75%         0.000000                            0.0         6.000000   \n",
       "max         1.000000                            0.0         8.000000   \n",
       "\n",
       "       proportion of owner-occupied units  distances to employment centres  \\\n",
       "count                          333.000000                       333.000000   \n",
       "mean                            67.798799                         3.213213   \n",
       "std                             28.196146                         2.022361   \n",
       "min                              6.000000                         1.000000   \n",
       "25%                             45.000000                         2.000000   \n",
       "50%                             76.000000                         3.000000   \n",
       "75%                             93.000000                         5.000000   \n",
       "max                            100.000000                        10.000000   \n",
       "\n",
       "       accessibility to radial highways  property-tax  pupil-teacher ratio  \\\n",
       "count                        333.000000    333.000000           333.000000   \n",
       "mean                           9.633634    409.279279            18.075075   \n",
       "std                            8.742174    170.841988             2.262265   \n",
       "min                            1.000000    188.000000            12.000000   \n",
       "25%                            4.000000    279.000000            17.000000   \n",
       "50%                            5.000000    330.000000            19.000000   \n",
       "75%                           24.000000    666.000000            20.000000   \n",
       "max                           24.000000    711.000000            21.000000   \n",
       "\n",
       "       proportion of blacks  status of the population  \\\n",
       "count            333.000000                333.000000   \n",
       "mean             358.864865                 12.015015   \n",
       "std               86.546194                  7.071265   \n",
       "min                3.000000                  1.000000   \n",
       "25%              376.000000                  7.000000   \n",
       "50%              392.000000                 10.000000   \n",
       "75%              396.000000                 16.000000   \n",
       "max              396.000000                 37.000000   \n",
       "\n",
       "       value of owner-occupied homes  \n",
       "count                     333.000000  \n",
       "mean                       22.348348  \n",
       "std                         9.224050  \n",
       "min                         5.000000  \n",
       "25%                        17.000000  \n",
       "50%                        21.000000  \n",
       "75%                        25.000000  \n",
       "max                        50.000000  "
      ]
     },
     "execution_count": 70,
     "metadata": {},
     "output_type": "execute_result"
    }
   ],
   "source": [
    "df.describe()"
   ]
  },
  {
   "cell_type": "code",
   "execution_count": 71,
   "metadata": {},
   "outputs": [
    {
     "data": {
      "text/plain": [
       "Index(['ID', 'crime rate', 'land zoned', 'non-retail business acres',\n",
       "       'Charles River', 'nitrogen oxides concentration', 'number of rooms',\n",
       "       'proportion of owner-occupied units', 'distances to employment centres',\n",
       "       'accessibility to radial highways', 'property-tax',\n",
       "       'pupil-teacher ratio', 'proportion of blacks',\n",
       "       'status of the population', 'value of owner-occupied homes'],\n",
       "      dtype='object')"
      ]
     },
     "execution_count": 71,
     "metadata": {},
     "output_type": "execute_result"
    }
   ],
   "source": [
    "df.columns"
   ]
  },
  {
   "cell_type": "markdown",
   "metadata": {},
   "source": [
    "признаки и целевая переменная"
   ]
  },
  {
   "cell_type": "code",
   "execution_count": 72,
   "metadata": {},
   "outputs": [],
   "source": [
    "X, y = df[['ID', 'crime rate', 'land zoned', 'non-retail business acres', 'Charles River', 'nitrogen oxides concentration', 'number of rooms', 'proportion of owner-occupied units', 'distances to employment centres', 'accessibility to radial highways', 'property-tax', 'pupil-teacher ratio', 'proportion of blacks', 'status of the population']], df['value of owner-occupied homes']"
   ]
  },
  {
   "cell_type": "code",
   "execution_count": 73,
   "metadata": {},
   "outputs": [
    {
     "data": {
      "text/html": [
       "<div>\n",
       "<style scoped>\n",
       "    .dataframe tbody tr th:only-of-type {\n",
       "        vertical-align: middle;\n",
       "    }\n",
       "\n",
       "    .dataframe tbody tr th {\n",
       "        vertical-align: top;\n",
       "    }\n",
       "\n",
       "    .dataframe thead th {\n",
       "        text-align: right;\n",
       "    }\n",
       "</style>\n",
       "<table border=\"1\" class=\"dataframe\">\n",
       "  <thead>\n",
       "    <tr style=\"text-align: right;\">\n",
       "      <th></th>\n",
       "      <th>ID</th>\n",
       "      <th>crime rate</th>\n",
       "      <th>land zoned</th>\n",
       "      <th>non-retail business acres</th>\n",
       "      <th>Charles River</th>\n",
       "      <th>nitrogen oxides concentration</th>\n",
       "      <th>number of rooms</th>\n",
       "      <th>proportion of owner-occupied units</th>\n",
       "      <th>distances to employment centres</th>\n",
       "      <th>accessibility to radial highways</th>\n",
       "      <th>property-tax</th>\n",
       "      <th>pupil-teacher ratio</th>\n",
       "      <th>proportion of blacks</th>\n",
       "      <th>status of the population</th>\n",
       "    </tr>\n",
       "  </thead>\n",
       "  <tbody>\n",
       "    <tr>\n",
       "      <th>0</th>\n",
       "      <td>1</td>\n",
       "      <td>0</td>\n",
       "      <td>18</td>\n",
       "      <td>2</td>\n",
       "      <td>0</td>\n",
       "      <td>0</td>\n",
       "      <td>6</td>\n",
       "      <td>65</td>\n",
       "      <td>4</td>\n",
       "      <td>1</td>\n",
       "      <td>296</td>\n",
       "      <td>15</td>\n",
       "      <td>396</td>\n",
       "      <td>4</td>\n",
       "    </tr>\n",
       "    <tr>\n",
       "      <th>1</th>\n",
       "      <td>2</td>\n",
       "      <td>0</td>\n",
       "      <td>0</td>\n",
       "      <td>7</td>\n",
       "      <td>0</td>\n",
       "      <td>0</td>\n",
       "      <td>6</td>\n",
       "      <td>78</td>\n",
       "      <td>4</td>\n",
       "      <td>2</td>\n",
       "      <td>242</td>\n",
       "      <td>17</td>\n",
       "      <td>396</td>\n",
       "      <td>9</td>\n",
       "    </tr>\n",
       "    <tr>\n",
       "      <th>2</th>\n",
       "      <td>4</td>\n",
       "      <td>0</td>\n",
       "      <td>0</td>\n",
       "      <td>2</td>\n",
       "      <td>0</td>\n",
       "      <td>0</td>\n",
       "      <td>6</td>\n",
       "      <td>45</td>\n",
       "      <td>6</td>\n",
       "      <td>3</td>\n",
       "      <td>222</td>\n",
       "      <td>18</td>\n",
       "      <td>394</td>\n",
       "      <td>2</td>\n",
       "    </tr>\n",
       "    <tr>\n",
       "      <th>3</th>\n",
       "      <td>5</td>\n",
       "      <td>0</td>\n",
       "      <td>0</td>\n",
       "      <td>2</td>\n",
       "      <td>0</td>\n",
       "      <td>0</td>\n",
       "      <td>7</td>\n",
       "      <td>54</td>\n",
       "      <td>6</td>\n",
       "      <td>3</td>\n",
       "      <td>222</td>\n",
       "      <td>18</td>\n",
       "      <td>396</td>\n",
       "      <td>5</td>\n",
       "    </tr>\n",
       "    <tr>\n",
       "      <th>4</th>\n",
       "      <td>7</td>\n",
       "      <td>0</td>\n",
       "      <td>12</td>\n",
       "      <td>7</td>\n",
       "      <td>0</td>\n",
       "      <td>0</td>\n",
       "      <td>6</td>\n",
       "      <td>66</td>\n",
       "      <td>5</td>\n",
       "      <td>5</td>\n",
       "      <td>311</td>\n",
       "      <td>15</td>\n",
       "      <td>395</td>\n",
       "      <td>12</td>\n",
       "    </tr>\n",
       "  </tbody>\n",
       "</table>\n",
       "</div>"
      ],
      "text/plain": [
       "   ID  crime rate  land zoned  non-retail business acres  Charles River  \\\n",
       "0   1           0          18                          2              0   \n",
       "1   2           0           0                          7              0   \n",
       "2   4           0           0                          2              0   \n",
       "3   5           0           0                          2              0   \n",
       "4   7           0          12                          7              0   \n",
       "\n",
       "   nitrogen oxides concentration  number of rooms  \\\n",
       "0                              0                6   \n",
       "1                              0                6   \n",
       "2                              0                6   \n",
       "3                              0                7   \n",
       "4                              0                6   \n",
       "\n",
       "   proportion of owner-occupied units  distances to employment centres  \\\n",
       "0                                  65                                4   \n",
       "1                                  78                                4   \n",
       "2                                  45                                6   \n",
       "3                                  54                                6   \n",
       "4                                  66                                5   \n",
       "\n",
       "   accessibility to radial highways  property-tax  pupil-teacher ratio  \\\n",
       "0                                 1           296                   15   \n",
       "1                                 2           242                   17   \n",
       "2                                 3           222                   18   \n",
       "3                                 3           222                   18   \n",
       "4                                 5           311                   15   \n",
       "\n",
       "   proportion of blacks  status of the population  \n",
       "0                   396                         4  \n",
       "1                   396                         9  \n",
       "2                   394                         2  \n",
       "3                   396                         5  \n",
       "4                   395                        12  "
      ]
     },
     "execution_count": 73,
     "metadata": {},
     "output_type": "execute_result"
    }
   ],
   "source": [
    "X.head()"
   ]
  },
  {
   "cell_type": "code",
   "execution_count": 74,
   "metadata": {},
   "outputs": [],
   "source": [
    "X_train, X_test, y_train, y_test = train_test_split(X, y, test_size=0.2)"
   ]
  },
  {
   "cell_type": "code",
   "execution_count": 75,
   "metadata": {},
   "outputs": [
    {
     "data": {
      "text/html": [
       "<div>\n",
       "<style scoped>\n",
       "    .dataframe tbody tr th:only-of-type {\n",
       "        vertical-align: middle;\n",
       "    }\n",
       "\n",
       "    .dataframe tbody tr th {\n",
       "        vertical-align: top;\n",
       "    }\n",
       "\n",
       "    .dataframe thead th {\n",
       "        text-align: right;\n",
       "    }\n",
       "</style>\n",
       "<table border=\"1\" class=\"dataframe\">\n",
       "  <thead>\n",
       "    <tr style=\"text-align: right;\">\n",
       "      <th></th>\n",
       "      <th>ID</th>\n",
       "      <th>crime rate</th>\n",
       "      <th>land zoned</th>\n",
       "      <th>non-retail business acres</th>\n",
       "      <th>Charles River</th>\n",
       "      <th>nitrogen oxides concentration</th>\n",
       "      <th>number of rooms</th>\n",
       "      <th>proportion of owner-occupied units</th>\n",
       "      <th>distances to employment centres</th>\n",
       "      <th>accessibility to radial highways</th>\n",
       "      <th>property-tax</th>\n",
       "      <th>pupil-teacher ratio</th>\n",
       "      <th>proportion of blacks</th>\n",
       "      <th>status of the population</th>\n",
       "    </tr>\n",
       "  </thead>\n",
       "  <tbody>\n",
       "    <tr>\n",
       "      <th>22</th>\n",
       "      <td>40</td>\n",
       "      <td>0</td>\n",
       "      <td>75</td>\n",
       "      <td>2</td>\n",
       "      <td>0</td>\n",
       "      <td>0</td>\n",
       "      <td>6</td>\n",
       "      <td>21</td>\n",
       "      <td>5</td>\n",
       "      <td>3</td>\n",
       "      <td>252</td>\n",
       "      <td>18</td>\n",
       "      <td>395</td>\n",
       "      <td>4</td>\n",
       "    </tr>\n",
       "    <tr>\n",
       "      <th>2</th>\n",
       "      <td>4</td>\n",
       "      <td>0</td>\n",
       "      <td>0</td>\n",
       "      <td>2</td>\n",
       "      <td>0</td>\n",
       "      <td>0</td>\n",
       "      <td>6</td>\n",
       "      <td>45</td>\n",
       "      <td>6</td>\n",
       "      <td>3</td>\n",
       "      <td>222</td>\n",
       "      <td>18</td>\n",
       "      <td>394</td>\n",
       "      <td>2</td>\n",
       "    </tr>\n",
       "    <tr>\n",
       "      <th>17</th>\n",
       "      <td>28</td>\n",
       "      <td>0</td>\n",
       "      <td>0</td>\n",
       "      <td>8</td>\n",
       "      <td>0</td>\n",
       "      <td>0</td>\n",
       "      <td>6</td>\n",
       "      <td>88</td>\n",
       "      <td>4</td>\n",
       "      <td>4</td>\n",
       "      <td>307</td>\n",
       "      <td>21</td>\n",
       "      <td>306</td>\n",
       "      <td>17</td>\n",
       "    </tr>\n",
       "    <tr>\n",
       "      <th>3</th>\n",
       "      <td>5</td>\n",
       "      <td>0</td>\n",
       "      <td>0</td>\n",
       "      <td>2</td>\n",
       "      <td>0</td>\n",
       "      <td>0</td>\n",
       "      <td>7</td>\n",
       "      <td>54</td>\n",
       "      <td>6</td>\n",
       "      <td>3</td>\n",
       "      <td>222</td>\n",
       "      <td>18</td>\n",
       "      <td>396</td>\n",
       "      <td>5</td>\n",
       "    </tr>\n",
       "    <tr>\n",
       "      <th>97</th>\n",
       "      <td>143</td>\n",
       "      <td>3</td>\n",
       "      <td>0</td>\n",
       "      <td>19</td>\n",
       "      <td>1</td>\n",
       "      <td>0</td>\n",
       "      <td>5</td>\n",
       "      <td>100</td>\n",
       "      <td>1</td>\n",
       "      <td>5</td>\n",
       "      <td>403</td>\n",
       "      <td>14</td>\n",
       "      <td>396</td>\n",
       "      <td>26</td>\n",
       "    </tr>\n",
       "  </tbody>\n",
       "</table>\n",
       "</div>"
      ],
      "text/plain": [
       "     ID  crime rate  land zoned  non-retail business acres  Charles River  \\\n",
       "22   40           0          75                          2              0   \n",
       "2     4           0           0                          2              0   \n",
       "17   28           0           0                          8              0   \n",
       "3     5           0           0                          2              0   \n",
       "97  143           3           0                         19              1   \n",
       "\n",
       "    nitrogen oxides concentration  number of rooms  \\\n",
       "22                              0                6   \n",
       "2                               0                6   \n",
       "17                              0                6   \n",
       "3                               0                7   \n",
       "97                              0                5   \n",
       "\n",
       "    proportion of owner-occupied units  distances to employment centres  \\\n",
       "22                                  21                                5   \n",
       "2                                   45                                6   \n",
       "17                                  88                                4   \n",
       "3                                   54                                6   \n",
       "97                                 100                                1   \n",
       "\n",
       "    accessibility to radial highways  property-tax  pupil-teacher ratio  \\\n",
       "22                                 3           252                   18   \n",
       "2                                  3           222                   18   \n",
       "17                                 4           307                   21   \n",
       "3                                  3           222                   18   \n",
       "97                                 5           403                   14   \n",
       "\n",
       "    proportion of blacks  status of the population  \n",
       "22                   395                         4  \n",
       "2                    394                         2  \n",
       "17                   306                        17  \n",
       "3                    396                         5  \n",
       "97                   396                        26  "
      ]
     },
     "execution_count": 75,
     "metadata": {},
     "output_type": "execute_result"
    }
   ],
   "source": [
    "X_train.head()"
   ]
  },
  {
   "cell_type": "code",
   "execution_count": 76,
   "metadata": {},
   "outputs": [
    {
     "data": {
      "text/plain": [
       "22    30\n",
       "2     33\n",
       "17    14\n",
       "3     36\n",
       "97    13\n",
       "Name: value of owner-occupied homes, dtype: int32"
      ]
     },
     "execution_count": 76,
     "metadata": {},
     "output_type": "execute_result"
    }
   ],
   "source": [
    "y_train.head()"
   ]
  },
  {
   "cell_type": "code",
   "execution_count": 77,
   "metadata": {},
   "outputs": [],
   "source": [
    "sc = StandardScaler()\n",
    "X_train = sc.fit_transform(X_train)\n",
    "X_test = sc.transform(X_test)"
   ]
  },
  {
   "cell_type": "code",
   "execution_count": 78,
   "metadata": {},
   "outputs": [
    {
     "data": {
      "text/plain": [
       "array([[-1.36924007, -0.42314351,  2.76773883, ..., -0.05571424,\n",
       "         0.42194012, -1.1434743 ],\n",
       "       [-1.60653273, -0.42314351, -0.47418165, ..., -0.05571424,\n",
       "         0.41113885, -1.42201292],\n",
       "       [-1.44833762, -0.42314351, -0.47418165, ...,  1.29155734,\n",
       "        -0.53937356,  0.66702668],\n",
       "       ...,\n",
       "       [ 0.54887555, -0.42314351, -0.47418165, ..., -0.95389529,\n",
       "         0.13030564, -0.44712777],\n",
       "       [-1.18467912, -0.42314351,  0.04452562, ..., -0.05571424,\n",
       "         0.4327414 , -0.58639708],\n",
       "       [ 0.98391209,  0.23895163, -0.47418165, ...,  0.84246681,\n",
       "         0.4327414 ,  0.94556529]])"
      ]
     },
     "execution_count": 78,
     "metadata": {},
     "output_type": "execute_result"
    }
   ],
   "source": [
    "X_train"
   ]
  },
  {
   "cell_type": "code",
   "execution_count": 79,
   "metadata": {},
   "outputs": [],
   "source": [
    "X_train = pd.DataFrame(X_train, columns=X.columns)\n",
    "X_test = pd.DataFrame(X_test, columns=X.columns)"
   ]
  },
  {
   "cell_type": "code",
   "execution_count": 80,
   "metadata": {},
   "outputs": [
    {
     "data": {
      "text/html": [
       "<div>\n",
       "<style scoped>\n",
       "    .dataframe tbody tr th:only-of-type {\n",
       "        vertical-align: middle;\n",
       "    }\n",
       "\n",
       "    .dataframe tbody tr th {\n",
       "        vertical-align: top;\n",
       "    }\n",
       "\n",
       "    .dataframe thead th {\n",
       "        text-align: right;\n",
       "    }\n",
       "</style>\n",
       "<table border=\"1\" class=\"dataframe\">\n",
       "  <thead>\n",
       "    <tr style=\"text-align: right;\">\n",
       "      <th></th>\n",
       "      <th>ID</th>\n",
       "      <th>crime rate</th>\n",
       "      <th>land zoned</th>\n",
       "      <th>non-retail business acres</th>\n",
       "      <th>Charles River</th>\n",
       "      <th>nitrogen oxides concentration</th>\n",
       "      <th>number of rooms</th>\n",
       "      <th>proportion of owner-occupied units</th>\n",
       "      <th>distances to employment centres</th>\n",
       "      <th>accessibility to radial highways</th>\n",
       "      <th>property-tax</th>\n",
       "      <th>pupil-teacher ratio</th>\n",
       "      <th>proportion of blacks</th>\n",
       "      <th>status of the population</th>\n",
       "    </tr>\n",
       "  </thead>\n",
       "  <tbody>\n",
       "    <tr>\n",
       "      <th>0</th>\n",
       "      <td>-1.369240</td>\n",
       "      <td>-0.423144</td>\n",
       "      <td>2.767739</td>\n",
       "      <td>-1.236976</td>\n",
       "      <td>-0.217357</td>\n",
       "      <td>0.0</td>\n",
       "      <td>0.315947</td>\n",
       "      <td>-1.660850</td>\n",
       "      <td>0.861634</td>\n",
       "      <td>-0.747467</td>\n",
       "      <td>-0.930322</td>\n",
       "      <td>-0.055714</td>\n",
       "      <td>0.421940</td>\n",
       "      <td>-1.143474</td>\n",
       "    </tr>\n",
       "    <tr>\n",
       "      <th>1</th>\n",
       "      <td>-1.606533</td>\n",
       "      <td>-0.423144</td>\n",
       "      <td>-0.474182</td>\n",
       "      <td>-1.236976</td>\n",
       "      <td>-0.217357</td>\n",
       "      <td>0.0</td>\n",
       "      <td>0.315947</td>\n",
       "      <td>-0.809693</td>\n",
       "      <td>1.353468</td>\n",
       "      <td>-0.747467</td>\n",
       "      <td>-1.107222</td>\n",
       "      <td>-0.055714</td>\n",
       "      <td>0.411139</td>\n",
       "      <td>-1.422013</td>\n",
       "    </tr>\n",
       "    <tr>\n",
       "      <th>2</th>\n",
       "      <td>-1.448338</td>\n",
       "      <td>-0.423144</td>\n",
       "      <td>-0.474182</td>\n",
       "      <td>-0.392212</td>\n",
       "      <td>-0.217357</td>\n",
       "      <td>0.0</td>\n",
       "      <td>0.315947</td>\n",
       "      <td>0.715297</td>\n",
       "      <td>0.369800</td>\n",
       "      <td>-0.632538</td>\n",
       "      <td>-0.606005</td>\n",
       "      <td>1.291557</td>\n",
       "      <td>-0.539374</td>\n",
       "      <td>0.667027</td>\n",
       "    </tr>\n",
       "    <tr>\n",
       "      <th>3</th>\n",
       "      <td>-1.599941</td>\n",
       "      <td>-0.423144</td>\n",
       "      <td>-0.474182</td>\n",
       "      <td>-1.236976</td>\n",
       "      <td>-0.217357</td>\n",
       "      <td>0.0</td>\n",
       "      <td>1.608902</td>\n",
       "      <td>-0.490509</td>\n",
       "      <td>1.353468</td>\n",
       "      <td>-0.747467</td>\n",
       "      <td>-1.107222</td>\n",
       "      <td>-0.055714</td>\n",
       "      <td>0.432741</td>\n",
       "      <td>-1.004205</td>\n",
       "    </tr>\n",
       "    <tr>\n",
       "      <th>4</th>\n",
       "      <td>-0.690319</td>\n",
       "      <td>-0.025886</td>\n",
       "      <td>-0.474182</td>\n",
       "      <td>1.156522</td>\n",
       "      <td>4.600725</td>\n",
       "      <td>0.0</td>\n",
       "      <td>-0.977007</td>\n",
       "      <td>1.140876</td>\n",
       "      <td>-1.105702</td>\n",
       "      <td>-0.517610</td>\n",
       "      <td>-0.039924</td>\n",
       "      <td>-1.852076</td>\n",
       "      <td>0.432741</td>\n",
       "      <td>1.920450</td>\n",
       "    </tr>\n",
       "  </tbody>\n",
       "</table>\n",
       "</div>"
      ],
      "text/plain": [
       "         ID  crime rate  land zoned  non-retail business acres  Charles River  \\\n",
       "0 -1.369240   -0.423144    2.767739                  -1.236976      -0.217357   \n",
       "1 -1.606533   -0.423144   -0.474182                  -1.236976      -0.217357   \n",
       "2 -1.448338   -0.423144   -0.474182                  -0.392212      -0.217357   \n",
       "3 -1.599941   -0.423144   -0.474182                  -1.236976      -0.217357   \n",
       "4 -0.690319   -0.025886   -0.474182                   1.156522       4.600725   \n",
       "\n",
       "   nitrogen oxides concentration  number of rooms  \\\n",
       "0                            0.0         0.315947   \n",
       "1                            0.0         0.315947   \n",
       "2                            0.0         0.315947   \n",
       "3                            0.0         1.608902   \n",
       "4                            0.0        -0.977007   \n",
       "\n",
       "   proportion of owner-occupied units  distances to employment centres  \\\n",
       "0                           -1.660850                         0.861634   \n",
       "1                           -0.809693                         1.353468   \n",
       "2                            0.715297                         0.369800   \n",
       "3                           -0.490509                         1.353468   \n",
       "4                            1.140876                        -1.105702   \n",
       "\n",
       "   accessibility to radial highways  property-tax  pupil-teacher ratio  \\\n",
       "0                         -0.747467     -0.930322            -0.055714   \n",
       "1                         -0.747467     -1.107222            -0.055714   \n",
       "2                         -0.632538     -0.606005             1.291557   \n",
       "3                         -0.747467     -1.107222            -0.055714   \n",
       "4                         -0.517610     -0.039924            -1.852076   \n",
       "\n",
       "   proportion of blacks  status of the population  \n",
       "0              0.421940                 -1.143474  \n",
       "1              0.411139                 -1.422013  \n",
       "2             -0.539374                  0.667027  \n",
       "3              0.432741                 -1.004205  \n",
       "4              0.432741                  1.920450  "
      ]
     },
     "execution_count": 80,
     "metadata": {},
     "output_type": "execute_result"
    }
   ],
   "source": [
    "X_train.head()"
   ]
  },
  {
   "cell_type": "markdown",
   "metadata": {},
   "source": [
    "обучение"
   ]
  },
  {
   "cell_type": "code",
   "execution_count": 81,
   "metadata": {},
   "outputs": [],
   "source": [
    "logistic = LogisticRegression()"
   ]
  },
  {
   "cell_type": "code",
   "execution_count": 82,
   "metadata": {},
   "outputs": [
    {
     "data": {
      "text/plain": [
       "LogisticRegression(C=1.0, class_weight=None, dual=False, fit_intercept=True,\n",
       "          intercept_scaling=1, max_iter=100, multi_class='ovr', n_jobs=1,\n",
       "          penalty='l2', random_state=None, solver='liblinear', tol=0.0001,\n",
       "          verbose=0, warm_start=False)"
      ]
     },
     "execution_count": 82,
     "metadata": {},
     "output_type": "execute_result"
    }
   ],
   "source": [
    "logistic.fit(X_train, y_train)"
   ]
  },
  {
   "cell_type": "code",
   "execution_count": 83,
   "metadata": {},
   "outputs": [
    {
     "data": {
      "text/plain": [
       "DecisionTreeClassifier(class_weight=None, criterion='gini', max_depth=None,\n",
       "            max_features=None, max_leaf_nodes=None,\n",
       "            min_impurity_decrease=0.0, min_impurity_split=None,\n",
       "            min_samples_leaf=1, min_samples_split=2,\n",
       "            min_weight_fraction_leaf=0.0, presort=False, random_state=None,\n",
       "            splitter='best')"
      ]
     },
     "execution_count": 83,
     "metadata": {},
     "output_type": "execute_result"
    }
   ],
   "source": [
    "tree = DecisionTreeClassifier(criterion='gini')\n",
    "tree.fit(X_train, y_train)"
   ]
  },
  {
   "cell_type": "code",
   "execution_count": 84,
   "metadata": {},
   "outputs": [
    {
     "data": {
      "text/plain": [
       "SVC(C=1.0, cache_size=200, class_weight=None, coef0=0.0,\n",
       "  decision_function_shape='ovr', degree=3, gamma='auto', kernel='rbf',\n",
       "  max_iter=-1, probability=False, random_state=None, shrinking=True,\n",
       "  tol=0.001, verbose=False)"
      ]
     },
     "execution_count": 84,
     "metadata": {},
     "output_type": "execute_result"
    }
   ],
   "source": [
    "svc = SVC()\n",
    "svc.fit(X_train, y_train)"
   ]
  },
  {
   "cell_type": "markdown",
   "metadata": {},
   "source": [
    "проверка"
   ]
  },
  {
   "cell_type": "markdown",
   "metadata": {},
   "source": [
    "лин регрес"
   ]
  },
  {
   "cell_type": "code",
   "execution_count": 86,
   "metadata": {},
   "outputs": [
    {
     "data": {
      "text/plain": [
       "array([22, 20, 13, 22, 43, 22, 20, 19, 24, 19, 12, 19, 28, 19, 50, 12, 13,\n",
       "       18, 50, 19, 19, 14, 22, 17, 19, 20, 19, 20, 27, 20, 20, 20, 22,  7,\n",
       "       20, 24, 28, 20, 24, 12, 50, 17, 50, 22, 12, 24, 27, 37, 28, 20, 19,\n",
       "        7, 20, 48, 22, 19, 22, 50, 50, 24, 24, 50, 24, 43, 50, 22, 22])"
      ]
     },
     "execution_count": 86,
     "metadata": {},
     "output_type": "execute_result"
    }
   ],
   "source": [
    "logistic.predict(X_test)"
   ]
  },
  {
   "cell_type": "code",
   "execution_count": 87,
   "metadata": {},
   "outputs": [
    {
     "data": {
      "text/plain": [
       "0.05970149253731343"
      ]
     },
     "execution_count": 87,
     "metadata": {},
     "output_type": "execute_result"
    }
   ],
   "source": [
    "accuracy_score(y_test, logistic.predict(X_test))"
   ]
  },
  {
   "cell_type": "code",
   "execution_count": 92,
   "metadata": {},
   "outputs": [
    {
     "name": "stderr",
     "output_type": "stream",
     "text": [
      "C:\\Users\\sesa514967\\AppData\\Local\\Continuum\\anaconda3\\lib\\site-packages\\sklearn\\metrics\\classification.py:1135: UndefinedMetricWarning: Precision is ill-defined and being set to 0.0 in labels with no predicted samples.\n",
      "  'precision', 'predicted', average, warn_for)\n"
     ]
    },
    {
     "data": {
      "text/plain": [
       "array([0.        , 0.        , 0.        , 0.        , 0.        ,\n",
       "       0.        , 0.        , 0.        , 0.        , 0.        ,\n",
       "       0.1       , 0.        , 0.        , 0.        , 0.        ,\n",
       "       0.14285714, 0.        , 0.        , 0.        , 0.        ,\n",
       "       0.        , 0.        , 0.        , 0.        , 0.        ,\n",
       "       0.        , 0.        , 0.        , 0.        , 0.        ,\n",
       "       0.        , 0.        , 0.25      ])"
      ]
     },
     "execution_count": 92,
     "metadata": {},
     "output_type": "execute_result"
    }
   ],
   "source": [
    "#тк на выходе - не бинарное число\n",
    "precision_score(y_test, logistic.predict(X_test), average=None)"
   ]
  },
  {
   "cell_type": "code",
   "execution_count": 94,
   "metadata": {},
   "outputs": [
    {
     "name": "stderr",
     "output_type": "stream",
     "text": [
      "C:\\Users\\sesa514967\\AppData\\Local\\Continuum\\anaconda3\\lib\\site-packages\\sklearn\\metrics\\classification.py:1137: UndefinedMetricWarning: Recall is ill-defined and being set to 0.0 in labels with no true samples.\n",
      "  'recall', 'true', average, warn_for)\n"
     ]
    },
    {
     "data": {
      "text/plain": [
       "array([0.        , 0.        , 0.        , 0.        , 0.        ,\n",
       "       0.        , 0.        , 0.        , 0.        , 0.        ,\n",
       "       0.5       , 0.        , 0.        , 0.        , 0.        ,\n",
       "       0.16666667, 0.        , 0.        , 0.        , 0.        ,\n",
       "       0.        , 0.        , 0.        , 0.        , 0.        ,\n",
       "       0.        , 0.        , 0.        , 0.        , 0.        ,\n",
       "       0.        , 0.        , 0.5       ])"
      ]
     },
     "execution_count": 94,
     "metadata": {},
     "output_type": "execute_result"
    }
   ],
   "source": [
    "recall_score(y_test, logistic.predict(X_test), average=None)"
   ]
  },
  {
   "cell_type": "code",
   "execution_count": 99,
   "metadata": {},
   "outputs": [
    {
     "name": "stderr",
     "output_type": "stream",
     "text": [
      "C:\\Users\\sesa514967\\AppData\\Local\\Continuum\\anaconda3\\lib\\site-packages\\sklearn\\metrics\\classification.py:1135: UndefinedMetricWarning: F-score is ill-defined and being set to 0.0 in labels with no predicted samples.\n",
      "  'precision', 'predicted', average, warn_for)\n",
      "C:\\Users\\sesa514967\\AppData\\Local\\Continuum\\anaconda3\\lib\\site-packages\\sklearn\\metrics\\classification.py:1137: UndefinedMetricWarning: F-score is ill-defined and being set to 0.0 in labels with no true samples.\n",
      "  'recall', 'true', average, warn_for)\n"
     ]
    },
    {
     "data": {
      "text/plain": [
       "array([0.        , 0.        , 0.        , 0.        , 0.        ,\n",
       "       0.        , 0.        , 0.        , 0.        , 0.        ,\n",
       "       0.16666667, 0.        , 0.        , 0.        , 0.        ,\n",
       "       0.15384615, 0.        , 0.        , 0.        , 0.        ,\n",
       "       0.        , 0.        , 0.        , 0.        , 0.        ,\n",
       "       0.        , 0.        , 0.        , 0.        , 0.        ,\n",
       "       0.        , 0.        , 0.33333333])"
      ]
     },
     "execution_count": 99,
     "metadata": {},
     "output_type": "execute_result"
    }
   ],
   "source": [
    "f1_score(y_test, logistic.predict(X_test), average=None)"
   ]
  },
  {
   "cell_type": "markdown",
   "metadata": {},
   "source": [
    "tree predict"
   ]
  },
  {
   "cell_type": "code",
   "execution_count": 97,
   "metadata": {},
   "outputs": [
    {
     "data": {
      "text/plain": [
       "0.1044776119402985"
      ]
     },
     "execution_count": 97,
     "metadata": {},
     "output_type": "execute_result"
    }
   ],
   "source": [
    "accuracy_score(y_test, tree.predict(X_test))"
   ]
  },
  {
   "cell_type": "code",
   "execution_count": 101,
   "metadata": {},
   "outputs": [
    {
     "name": "stderr",
     "output_type": "stream",
     "text": [
      "C:\\Users\\sesa514967\\AppData\\Local\\Continuum\\anaconda3\\lib\\site-packages\\sklearn\\metrics\\classification.py:1135: UndefinedMetricWarning: Precision is ill-defined and being set to 0.0 in labels with no predicted samples.\n",
      "  'precision', 'predicted', average, warn_for)\n"
     ]
    },
    {
     "data": {
      "text/plain": [
       "array([0. , 0. , 0. , 0. , 0. , 0. , 0. , 0. , 0. , 1. , 0. , 0. , 0.2,\n",
       "       0. , 0. , 0.2, 0.5, 0. , 0. , 0. , 0. , 0. , 0. , 0. , 0. , 0. ,\n",
       "       0. , 0. , 0. , 0. , 0. , 0. , 0. , 0.5])"
      ]
     },
     "execution_count": 101,
     "metadata": {},
     "output_type": "execute_result"
    }
   ],
   "source": [
    "precision_score(y_test, tree.predict(X_test), average=None)"
   ]
  },
  {
   "cell_type": "code",
   "execution_count": 103,
   "metadata": {},
   "outputs": [
    {
     "name": "stderr",
     "output_type": "stream",
     "text": [
      "C:\\Users\\sesa514967\\AppData\\Local\\Continuum\\anaconda3\\lib\\site-packages\\sklearn\\metrics\\classification.py:1137: UndefinedMetricWarning: Recall is ill-defined and being set to 0.0 in labels with no true samples.\n",
      "  'recall', 'true', average, warn_for)\n"
     ]
    },
    {
     "data": {
      "text/plain": [
       "array([0.        , 0.        , 0.        , 0.        , 0.        ,\n",
       "       0.        , 0.        , 0.        , 0.        , 0.5       ,\n",
       "       0.        , 0.        , 0.16666667, 0.        , 0.        ,\n",
       "       0.14285714, 0.16666667, 0.        , 0.        , 0.        ,\n",
       "       0.        , 0.        , 0.        , 0.        , 0.        ,\n",
       "       0.        , 0.        , 0.        , 0.        , 0.        ,\n",
       "       0.        , 0.        , 0.        , 0.5       ])"
      ]
     },
     "execution_count": 103,
     "metadata": {},
     "output_type": "execute_result"
    }
   ],
   "source": [
    "recall_score(y_test, tree.predict(X_test), average=None)"
   ]
  },
  {
   "cell_type": "code",
   "execution_count": 105,
   "metadata": {},
   "outputs": [
    {
     "name": "stderr",
     "output_type": "stream",
     "text": [
      "C:\\Users\\sesa514967\\AppData\\Local\\Continuum\\anaconda3\\lib\\site-packages\\sklearn\\metrics\\classification.py:1135: UndefinedMetricWarning: F-score is ill-defined and being set to 0.0 in labels with no predicted samples.\n",
      "  'precision', 'predicted', average, warn_for)\n",
      "C:\\Users\\sesa514967\\AppData\\Local\\Continuum\\anaconda3\\lib\\site-packages\\sklearn\\metrics\\classification.py:1137: UndefinedMetricWarning: F-score is ill-defined and being set to 0.0 in labels with no true samples.\n",
      "  'recall', 'true', average, warn_for)\n"
     ]
    },
    {
     "data": {
      "text/plain": [
       "array([0.        , 0.        , 0.        , 0.        , 0.        ,\n",
       "       0.        , 0.        , 0.        , 0.        , 0.66666667,\n",
       "       0.        , 0.        , 0.18181818, 0.        , 0.        ,\n",
       "       0.16666667, 0.25      , 0.        , 0.        , 0.        ,\n",
       "       0.        , 0.        , 0.        , 0.        , 0.        ,\n",
       "       0.        , 0.        , 0.        , 0.        , 0.        ,\n",
       "       0.        , 0.        , 0.        , 0.5       ])"
      ]
     },
     "execution_count": 105,
     "metadata": {},
     "output_type": "execute_result"
    }
   ],
   "source": [
    "f1_score(y_test, tree.predict(X_test), average=None)"
   ]
  },
  {
   "cell_type": "markdown",
   "metadata": {},
   "source": [
    "SVC"
   ]
  },
  {
   "cell_type": "code",
   "execution_count": 106,
   "metadata": {},
   "outputs": [
    {
     "data": {
      "text/plain": [
       "0.04477611940298507"
      ]
     },
     "execution_count": 106,
     "metadata": {},
     "output_type": "execute_result"
    }
   ],
   "source": [
    "accuracy_score(y_test, svc.predict(X_test))"
   ]
  },
  {
   "cell_type": "code",
   "execution_count": 108,
   "metadata": {},
   "outputs": [
    {
     "name": "stderr",
     "output_type": "stream",
     "text": [
      "C:\\Users\\sesa514967\\AppData\\Local\\Continuum\\anaconda3\\lib\\site-packages\\sklearn\\metrics\\classification.py:1135: UndefinedMetricWarning: Precision is ill-defined and being set to 0.0 in labels with no predicted samples.\n",
      "  'precision', 'predicted', average, warn_for)\n"
     ]
    },
    {
     "data": {
      "text/plain": [
       "array([0.        , 0.        , 0.        , 0.        , 0.        ,\n",
       "       0.        , 0.        , 0.        , 0.        , 0.        ,\n",
       "       0.08695652, 0.        , 0.        , 0.04545455, 0.        ,\n",
       "       0.        , 0.        , 0.        , 0.        , 0.        ,\n",
       "       0.        , 0.        , 0.        , 0.        , 0.        ,\n",
       "       0.        , 0.        , 0.        , 0.        , 0.        ])"
      ]
     },
     "execution_count": 108,
     "metadata": {},
     "output_type": "execute_result"
    }
   ],
   "source": [
    "precision_score(y_test, svc.predict(X_test), average=None)"
   ]
  },
  {
   "cell_type": "code",
   "execution_count": 110,
   "metadata": {},
   "outputs": [
    {
     "name": "stderr",
     "output_type": "stream",
     "text": [
      "C:\\Users\\sesa514967\\AppData\\Local\\Continuum\\anaconda3\\lib\\site-packages\\sklearn\\metrics\\classification.py:1137: UndefinedMetricWarning: Recall is ill-defined and being set to 0.0 in labels with no true samples.\n",
      "  'recall', 'true', average, warn_for)\n"
     ]
    },
    {
     "data": {
      "text/plain": [
       "array([0.  , 0.  , 0.  , 0.  , 0.  , 0.  , 0.  , 0.  , 0.  , 0.  , 1.  ,\n",
       "       0.  , 0.  , 0.25, 0.  , 0.  , 0.  , 0.  , 0.  , 0.  , 0.  , 0.  ,\n",
       "       0.  , 0.  , 0.  , 0.  , 0.  , 0.  , 0.  , 0.  ])"
      ]
     },
     "execution_count": 110,
     "metadata": {},
     "output_type": "execute_result"
    }
   ],
   "source": [
    "recall_score(y_test, svc.predict(X_test), average=None)"
   ]
  },
  {
   "cell_type": "code",
   "execution_count": 112,
   "metadata": {},
   "outputs": [
    {
     "name": "stderr",
     "output_type": "stream",
     "text": [
      "C:\\Users\\sesa514967\\AppData\\Local\\Continuum\\anaconda3\\lib\\site-packages\\sklearn\\metrics\\classification.py:1135: UndefinedMetricWarning: F-score is ill-defined and being set to 0.0 in labels with no predicted samples.\n",
      "  'precision', 'predicted', average, warn_for)\n",
      "C:\\Users\\sesa514967\\AppData\\Local\\Continuum\\anaconda3\\lib\\site-packages\\sklearn\\metrics\\classification.py:1137: UndefinedMetricWarning: F-score is ill-defined and being set to 0.0 in labels with no true samples.\n",
      "  'recall', 'true', average, warn_for)\n"
     ]
    },
    {
     "data": {
      "text/plain": [
       "array([0.        , 0.        , 0.        , 0.        , 0.        ,\n",
       "       0.        , 0.        , 0.        , 0.        , 0.        ,\n",
       "       0.16      , 0.        , 0.        , 0.07692308, 0.        ,\n",
       "       0.        , 0.        , 0.        , 0.        , 0.        ,\n",
       "       0.        , 0.        , 0.        , 0.        , 0.        ,\n",
       "       0.        , 0.        , 0.        , 0.        , 0.        ])"
      ]
     },
     "execution_count": 112,
     "metadata": {},
     "output_type": "execute_result"
    }
   ],
   "source": [
    "f1_score(y_test, svc.predict(X_test), average=None)"
   ]
  },
  {
   "cell_type": "code",
   "execution_count": null,
   "metadata": {},
   "outputs": [],
   "source": []
  }
 ],
 "metadata": {
  "kernelspec": {
   "display_name": "Python 3",
   "language": "python",
   "name": "python3"
  },
  "language_info": {
   "codemirror_mode": {
    "name": "ipython",
    "version": 3
   },
   "file_extension": ".py",
   "mimetype": "text/x-python",
   "name": "python",
   "nbconvert_exporter": "python",
   "pygments_lexer": "ipython3",
   "version": "3.7.0"
  }
 },
 "nbformat": 4,
 "nbformat_minor": 2
}
