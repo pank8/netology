{
  "nbformat": 4,
  "nbformat_minor": 0,
  "metadata": {
    "colab": {
      "name": "MovieLens 100K Dataset (spark).ipynb",
      "provenance": [],
      "collapsed_sections": [],
      "toc_visible": true,
      "include_colab_link": true
    },
    "kernelspec": {
      "name": "python3",
      "display_name": "Python 3"
    }
  },
  "cells": [
    {
      "cell_type": "markdown",
      "metadata": {
        "id": "view-in-github",
        "colab_type": "text"
      },
      "source": [
        "<a href=\"https://colab.research.google.com/github/pank8/python/blob/master/MovieLens_100K_Dataset_(spark).ipynb\" target=\"_parent\"><img src=\"https://colab.research.google.com/assets/colab-badge.svg\" alt=\"Open In Colab\"/></a>"
      ]
    },
    {
      "cell_type": "markdown",
      "metadata": {
        "id": "drXt8naBEVEZ",
        "colab_type": "text"
      },
      "source": [
        "# Загрузить данные в spark"
      ]
    },
    {
      "cell_type": "code",
      "metadata": {
        "id": "u9JySepLEYT_",
        "colab_type": "code",
        "colab": {}
      },
      "source": [
        "!apt-get install openjdk-8-jdk-headless -qq > /dev/null"
      ],
      "execution_count": 0,
      "outputs": []
    },
    {
      "cell_type": "code",
      "metadata": {
        "id": "cxPGpSKIEZi7",
        "colab_type": "code",
        "colab": {}
      },
      "source": [
        "!wget -q http://www-eu.apache.org/dist/spark/spark-2.4.4/spark-2.4.4-bin-hadoop2.7.tgz"
      ],
      "execution_count": 0,
      "outputs": []
    },
    {
      "cell_type": "code",
      "metadata": {
        "id": "drZuLe4tEceR",
        "colab_type": "code",
        "colab": {}
      },
      "source": [
        "!tar xf spark-2.4.4-bin-hadoop2.7.tgz"
      ],
      "execution_count": 0,
      "outputs": []
    },
    {
      "cell_type": "code",
      "metadata": {
        "id": "mXZeJThSFPoP",
        "colab_type": "code",
        "colab": {}
      },
      "source": [
        "!pip install -q findspark"
      ],
      "execution_count": 0,
      "outputs": []
    },
    {
      "cell_type": "code",
      "metadata": {
        "id": "nmQFzNWiFT3J",
        "colab_type": "code",
        "colab": {}
      },
      "source": [
        "import os\n",
        "os.environ[\"JAVA_HOME\"] = \"/usr/lib/jvm/java-8-openjdk-amd64\"\n",
        "os.environ[\"SPARK_HOME\"] = \"/content/spark-2.4.4-bin-hadoop2.7\""
      ],
      "execution_count": 0,
      "outputs": []
    },
    {
      "cell_type": "code",
      "metadata": {
        "id": "t9CUHK4VFWOE",
        "colab_type": "code",
        "colab": {}
      },
      "source": [
        "import findspark\n",
        "findspark.init()\n",
        "from pyspark.sql import SparkSession\n",
        "\n",
        "spark = SparkSession.builder.master(\"local[*]\").getOrCreate()"
      ],
      "execution_count": 0,
      "outputs": []
    },
    {
      "cell_type": "code",
      "metadata": {
        "id": "az9-bNi4IxZX",
        "colab_type": "code",
        "colab": {}
      },
      "source": [
        "from pyspark import SparkFiles\n"
      ],
      "execution_count": 0,
      "outputs": []
    },
    {
      "cell_type": "code",
      "metadata": {
        "id": "qzvy0mwMJbrE",
        "colab_type": "code",
        "colab": {}
      },
      "source": [
        "from pyspark import SparkContext"
      ],
      "execution_count": 0,
      "outputs": []
    },
    {
      "cell_type": "code",
      "metadata": {
        "id": "BwznJXvfJfFR",
        "colab_type": "code",
        "colab": {}
      },
      "source": [
        "from pyspark import SparkContext\n",
        "sc = SparkContext.getOrCreate()"
      ],
      "execution_count": 0,
      "outputs": []
    },
    {
      "cell_type": "code",
      "metadata": {
        "id": "gI19aZDvIRjf",
        "colab_type": "code",
        "colab": {}
      },
      "source": [
        "f1 = sc.textFile(\"u.data\")\n",
        "data_rdd = f1.map(lambda line: [x for x in line.split(\"\\t\")])"
      ],
      "execution_count": 0,
      "outputs": []
    },
    {
      "cell_type": "code",
      "metadata": {
        "id": "8ItmMxCcJvkd",
        "colab_type": "code",
        "outputId": "8a67c249-9e38-49a3-e3f6-2ab3ac088848",
        "colab": {
          "base_uri": "https://localhost:8080/",
          "height": 33
        }
      },
      "source": [
        "data_rdd.take(1)"
      ],
      "execution_count": 97,
      "outputs": [
        {
          "output_type": "execute_result",
          "data": {
            "text/plain": [
              "[['196', '242', '3', '881250949']]"
            ]
          },
          "metadata": {
            "tags": []
          },
          "execution_count": 97
        }
      ]
    },
    {
      "cell_type": "code",
      "metadata": {
        "id": "2O_6QXMJJwz3",
        "colab_type": "code",
        "colab": {}
      },
      "source": [
        "data = data_rdd.toDF([\"userid\", \"movieid\", \"rating\", \"timestamp\"])"
      ],
      "execution_count": 0,
      "outputs": []
    },
    {
      "cell_type": "code",
      "metadata": {
        "id": "an5azRJiJ6CH",
        "colab_type": "code",
        "outputId": "54d0a5d2-3f70-4dd4-f047-31d053cda408",
        "colab": {
          "base_uri": "https://localhost:8080/",
          "height": 196
        }
      },
      "source": [
        "data.show(5)"
      ],
      "execution_count": 116,
      "outputs": [
        {
          "output_type": "stream",
          "text": [
            "+------+-------+------+---------+\n",
            "|userid|movieid|rating|timestamp|\n",
            "+------+-------+------+---------+\n",
            "|   196|    242|     3|881250949|\n",
            "|   186|    302|     3|891717742|\n",
            "|    22|    377|     1|878887116|\n",
            "|   244|     51|     2|880606923|\n",
            "|   166|    346|     1|886397596|\n",
            "+------+-------+------+---------+\n",
            "only showing top 5 rows\n",
            "\n"
          ],
          "name": "stdout"
        }
      ]
    },
    {
      "cell_type": "code",
      "metadata": {
        "id": "Ispg3SQlKIeG",
        "colab_type": "code",
        "colab": {}
      },
      "source": [
        "f2 = sc.textFile(\"u.genre\")\n",
        "genre_rdd = f2.map(lambda line: [x for x in line.split(\"|\")])"
      ],
      "execution_count": 0,
      "outputs": []
    },
    {
      "cell_type": "code",
      "metadata": {
        "id": "hn0yMcfxKwKX",
        "colab_type": "code",
        "outputId": "d02dfda1-2668-4e84-bd77-be589ba32c67",
        "colab": {
          "base_uri": "https://localhost:8080/",
          "height": 33
        }
      },
      "source": [
        "genre_rdd.take(1)"
      ],
      "execution_count": 104,
      "outputs": [
        {
          "output_type": "execute_result",
          "data": {
            "text/plain": [
              "[['unknown', '0']]"
            ]
          },
          "metadata": {
            "tags": []
          },
          "execution_count": 104
        }
      ]
    },
    {
      "cell_type": "code",
      "metadata": {
        "id": "QCY0dPoWK63n",
        "colab_type": "code",
        "colab": {}
      },
      "source": [
        "genre = genre_rdd.toDF([\"genre\", \"genreid\"])"
      ],
      "execution_count": 0,
      "outputs": []
    },
    {
      "cell_type": "code",
      "metadata": {
        "id": "3tg7klU6LF0C",
        "colab_type": "code",
        "outputId": "7df340f9-86b6-4107-d364-9c46cfc161ba",
        "colab": {
          "base_uri": "https://localhost:8080/",
          "height": 196
        }
      },
      "source": [
        "genre.show(5)"
      ],
      "execution_count": 117,
      "outputs": [
        {
          "output_type": "stream",
          "text": [
            "+----------+-------+\n",
            "|     genre|genreid|\n",
            "+----------+-------+\n",
            "|   unknown|      0|\n",
            "|    Action|      1|\n",
            "| Adventure|      2|\n",
            "| Animation|      3|\n",
            "|Children's|      4|\n",
            "+----------+-------+\n",
            "only showing top 5 rows\n",
            "\n"
          ],
          "name": "stdout"
        }
      ]
    },
    {
      "cell_type": "code",
      "metadata": {
        "id": "2WbxYy1bMeBN",
        "colab_type": "code",
        "colab": {}
      },
      "source": [
        "f3 = sc.textFile('u.info')\n",
        "info_rdd = f3.map(lambda line: [x for x in line.split(\" \")])"
      ],
      "execution_count": 0,
      "outputs": []
    },
    {
      "cell_type": "code",
      "metadata": {
        "id": "Sw7F_I74Mn4j",
        "colab_type": "code",
        "outputId": "db37a34c-c340-4117-f1cb-74b496e71373",
        "colab": {
          "base_uri": "https://localhost:8080/",
          "height": 33
        }
      },
      "source": [
        "info_rdd.take(1)"
      ],
      "execution_count": 66,
      "outputs": [
        {
          "output_type": "execute_result",
          "data": {
            "text/plain": [
              "[['943', 'users']]"
            ]
          },
          "metadata": {
            "tags": []
          },
          "execution_count": 66
        }
      ]
    },
    {
      "cell_type": "code",
      "metadata": {
        "id": "1wsU6vJrMrDf",
        "colab_type": "code",
        "colab": {}
      },
      "source": [
        "info = info_rdd.toDF([\"count\", \"name\"])"
      ],
      "execution_count": 0,
      "outputs": []
    },
    {
      "cell_type": "code",
      "metadata": {
        "id": "bbE0HliqMwGK",
        "colab_type": "code",
        "outputId": "03dd49e7-2cd5-43ba-aa85-c9d6b99abd6f",
        "colab": {
          "base_uri": "https://localhost:8080/",
          "height": 147
        }
      },
      "source": [
        "info.show(5)"
      ],
      "execution_count": 68,
      "outputs": [
        {
          "output_type": "stream",
          "text": [
            "+------+-------+\n",
            "| count|   name|\n",
            "+------+-------+\n",
            "|   943|  users|\n",
            "|  1682|  items|\n",
            "|100000|ratings|\n",
            "+------+-------+\n",
            "\n"
          ],
          "name": "stdout"
        }
      ]
    },
    {
      "cell_type": "code",
      "metadata": {
        "id": "KuVWs3-CM6C9",
        "colab_type": "code",
        "colab": {}
      },
      "source": [
        "f4 = sc.textFile('u.occupation')\n",
        "occupation_rdd = f4.map(lambda line: [x for x in line.split(\"\\t\")])"
      ],
      "execution_count": 0,
      "outputs": []
    },
    {
      "cell_type": "code",
      "metadata": {
        "id": "U21DSh9gNDiq",
        "colab_type": "code",
        "outputId": "125599e1-158c-45a0-e965-3b5ed978f3b3",
        "colab": {
          "base_uri": "https://localhost:8080/",
          "height": 33
        }
      },
      "source": [
        "occupation_rdd.take(1)"
      ],
      "execution_count": 70,
      "outputs": [
        {
          "output_type": "execute_result",
          "data": {
            "text/plain": [
              "[['administrator']]"
            ]
          },
          "metadata": {
            "tags": []
          },
          "execution_count": 70
        }
      ]
    },
    {
      "cell_type": "code",
      "metadata": {
        "id": "2kfgiJhLNIn7",
        "colab_type": "code",
        "colab": {}
      },
      "source": [
        "occupation = occupation_rdd.toDF([\"occupation\"])"
      ],
      "execution_count": 0,
      "outputs": []
    },
    {
      "cell_type": "code",
      "metadata": {
        "id": "iZ8v-lXaNPN5",
        "colab_type": "code",
        "outputId": "96ac87c0-5a29-464c-bb38-c93d7e5fd526",
        "colab": {
          "base_uri": "https://localhost:8080/",
          "height": 196
        }
      },
      "source": [
        "occupation.show(5)"
      ],
      "execution_count": 72,
      "outputs": [
        {
          "output_type": "stream",
          "text": [
            "+-------------+\n",
            "|   occupation|\n",
            "+-------------+\n",
            "|administrator|\n",
            "|       artist|\n",
            "|       doctor|\n",
            "|     educator|\n",
            "|     engineer|\n",
            "+-------------+\n",
            "only showing top 5 rows\n",
            "\n"
          ],
          "name": "stdout"
        }
      ]
    },
    {
      "cell_type": "code",
      "metadata": {
        "id": "6RjO4rUWNTLI",
        "colab_type": "code",
        "colab": {}
      },
      "source": [
        "f5 = sc.textFile('u.item')\n",
        "item_rdd = f5.map(lambda line: [x for x in line.split(\"|\")])"
      ],
      "execution_count": 0,
      "outputs": []
    },
    {
      "cell_type": "code",
      "metadata": {
        "id": "EF77ScC7Nefa",
        "colab_type": "code",
        "outputId": "cf0d1e30-d368-401d-ffa5-16756e91bb77",
        "colab": {
          "base_uri": "https://localhost:8080/",
          "height": 407
        }
      },
      "source": [
        "item_rdd.take(1)"
      ],
      "execution_count": 273,
      "outputs": [
        {
          "output_type": "execute_result",
          "data": {
            "text/plain": [
              "[['1',\n",
              "  'Toy Story (1995)',\n",
              "  '01-Jan-1995',\n",
              "  '',\n",
              "  'http://us.imdb.com/M/title-exact?Toy%20Story%20(1995)',\n",
              "  '0',\n",
              "  '0',\n",
              "  '0',\n",
              "  '1',\n",
              "  '1',\n",
              "  '1',\n",
              "  '0',\n",
              "  '0',\n",
              "  '0',\n",
              "  '0',\n",
              "  '0',\n",
              "  '0',\n",
              "  '0',\n",
              "  '0',\n",
              "  '0',\n",
              "  '0',\n",
              "  '0',\n",
              "  '0',\n",
              "  '0']]"
            ]
          },
          "metadata": {
            "tags": []
          },
          "execution_count": 273
        }
      ]
    },
    {
      "cell_type": "code",
      "metadata": {
        "id": "BCCdEDwINl6x",
        "colab_type": "code",
        "colab": {}
      },
      "source": [
        "item = item_rdd.toDF([\"movieid\", \"Title\", \"release\", \"video release date \", \"URL\",\"unknown\", \"Action\", \"Adventure\", \"Animation\", \"Childrens\",\"Comedy\", \"Crime\", \"Documentary\", \"Drama\", \"Fantasy\",\"FilmNoir\", \"Horror\", \"Musical\", \"Mystery\", \"Romance\",\"SciFi\", \"Thriller\", \"War\", \"Western\"])"
      ],
      "execution_count": 0,
      "outputs": []
    },
    {
      "cell_type": "code",
      "metadata": {
        "id": "8ImlW-UlNu7-",
        "colab_type": "code",
        "outputId": "5877e387-9515-455b-ce0a-59ce55b95ee1",
        "colab": {
          "base_uri": "https://localhost:8080/",
          "height": 216
        }
      },
      "source": [
        "item.show(5)"
      ],
      "execution_count": 275,
      "outputs": [
        {
          "output_type": "stream",
          "text": [
            "+-------+-----------------+-----------+-------------------+--------------------+-------+------+---------+---------+---------+------+-----+-----------+-----+-------+--------+------+-------+-------+-------+-----+--------+---+-------+\n",
            "|movieid|            Title|    release|video release date |                 URL|unknown|Action|Adventure|Animation|Childrens|Comedy|Crime|Documentary|Drama|Fantasy|FilmNoir|Horror|Musical|Mystery|Romance|SciFi|Thriller|War|Western|\n",
            "+-------+-----------------+-----------+-------------------+--------------------+-------+------+---------+---------+---------+------+-----+-----------+-----+-------+--------+------+-------+-------+-------+-----+--------+---+-------+\n",
            "|      1| Toy Story (1995)|01-Jan-1995|                   |http://us.imdb.co...|      0|     0|        0|        1|        1|     1|    0|          0|    0|      0|       0|     0|      0|      0|      0|    0|       0|  0|      0|\n",
            "|      2| GoldenEye (1995)|01-Jan-1995|                   |http://us.imdb.co...|      0|     1|        1|        0|        0|     0|    0|          0|    0|      0|       0|     0|      0|      0|      0|    0|       1|  0|      0|\n",
            "|      3|Four Rooms (1995)|01-Jan-1995|                   |http://us.imdb.co...|      0|     0|        0|        0|        0|     0|    0|          0|    0|      0|       0|     0|      0|      0|      0|    0|       1|  0|      0|\n",
            "|      4|Get Shorty (1995)|01-Jan-1995|                   |http://us.imdb.co...|      0|     1|        0|        0|        0|     1|    0|          0|    1|      0|       0|     0|      0|      0|      0|    0|       0|  0|      0|\n",
            "|      5|   Copycat (1995)|01-Jan-1995|                   |http://us.imdb.co...|      0|     0|        0|        0|        0|     0|    1|          0|    1|      0|       0|     0|      0|      0|      0|    0|       1|  0|      0|\n",
            "+-------+-----------------+-----------+-------------------+--------------------+-------+------+---------+---------+---------+------+-----+-----------+-----+-------+--------+------+-------+-------+-------+-----+--------+---+-------+\n",
            "only showing top 5 rows\n",
            "\n"
          ],
          "name": "stdout"
        }
      ]
    },
    {
      "cell_type": "code",
      "metadata": {
        "id": "6GERkLQKNy1w",
        "colab_type": "code",
        "colab": {}
      },
      "source": [
        "f6 = sc.textFile('u.user')\n",
        "user_rdd = f6.map(lambda line: [x for x in line.split(\"|\")])"
      ],
      "execution_count": 0,
      "outputs": []
    },
    {
      "cell_type": "code",
      "metadata": {
        "id": "leCOOacxN7uQ",
        "colab_type": "code",
        "outputId": "44d0de06-c4e2-4bd3-f3df-e6d523c87dfa",
        "colab": {
          "base_uri": "https://localhost:8080/",
          "height": 33
        }
      },
      "source": [
        "user_rdd.take(1)"
      ],
      "execution_count": 79,
      "outputs": [
        {
          "output_type": "execute_result",
          "data": {
            "text/plain": [
              "[['1', '24', 'M', 'technician', '85711']]"
            ]
          },
          "metadata": {
            "tags": []
          },
          "execution_count": 79
        }
      ]
    },
    {
      "cell_type": "code",
      "metadata": {
        "id": "X0PUebeIN_E-",
        "colab_type": "code",
        "colab": {}
      },
      "source": [
        "user = user_rdd.toDF( [\"userid\", \"age\", \"gender\", \"occupation\", \"zip code\"])"
      ],
      "execution_count": 0,
      "outputs": []
    },
    {
      "cell_type": "code",
      "metadata": {
        "id": "ybKOrHVOOIF4",
        "colab_type": "code",
        "outputId": "79a986f7-6ff6-4082-89d1-b866501f4592",
        "colab": {
          "base_uri": "https://localhost:8080/",
          "height": 196
        }
      },
      "source": [
        "user.show(5)"
      ],
      "execution_count": 81,
      "outputs": [
        {
          "output_type": "stream",
          "text": [
            "+------+---+------+----------+--------+\n",
            "|userid|age|gender|occupation|zip code|\n",
            "+------+---+------+----------+--------+\n",
            "|     1| 24|     M|technician|   85711|\n",
            "|     2| 53|     F|     other|   94043|\n",
            "|     3| 23|     M|    writer|   32067|\n",
            "|     4| 24|     M|technician|   43537|\n",
            "|     5| 33|     F|     other|   15213|\n",
            "+------+---+------+----------+--------+\n",
            "only showing top 5 rows\n",
            "\n"
          ],
          "name": "stdout"
        }
      ]
    },
    {
      "cell_type": "markdown",
      "metadata": {
        "id": "GM7Vv48BOOYL",
        "colab_type": "text"
      },
      "source": [
        "# Средствами спарка вывести среднюю оценку для каждого фильма"
      ]
    },
    {
      "cell_type": "code",
      "metadata": {
        "id": "DHxhS0iHOWC1",
        "colab_type": "code",
        "colab": {}
      },
      "source": [
        "from pyspark.sql import functions as F"
      ],
      "execution_count": 0,
      "outputs": []
    },
    {
      "cell_type": "code",
      "metadata": {
        "id": "waugyfoVOjbf",
        "colab_type": "code",
        "colab": {}
      },
      "source": [
        "movies = data.join(item, on='movieid').select('movieid', 'Title', \"userid\", \"rating\")"
      ],
      "execution_count": 0,
      "outputs": []
    },
    {
      "cell_type": "code",
      "metadata": {
        "id": "LYXYJFzuPdBC",
        "colab_type": "code",
        "outputId": "9a88c47d-14b8-4e86-fcd2-ac9f2be63e78",
        "colab": {
          "base_uri": "https://localhost:8080/",
          "height": 196
        }
      },
      "source": [
        "movies.show(5)"
      ],
      "execution_count": 38,
      "outputs": [
        {
          "output_type": "stream",
          "text": [
            "+-------+-------------+------+------+\n",
            "|movieid|        Title|userid|rating|\n",
            "+-------+-------------+------+------+\n",
            "|   1090|Sliver (1993)|    56|     3|\n",
            "|   1090|Sliver (1993)|   303|     1|\n",
            "|   1090|Sliver (1993)|   268|     2|\n",
            "|   1090|Sliver (1993)|   145|     2|\n",
            "|   1090|Sliver (1993)|   320|     3|\n",
            "+-------+-------------+------+------+\n",
            "only showing top 5 rows\n",
            "\n"
          ],
          "name": "stdout"
        }
      ]
    },
    {
      "cell_type": "code",
      "metadata": {
        "id": "5xFtkSMiOWuN",
        "colab_type": "code",
        "colab": {}
      },
      "source": [
        "movies_avg = movies.groupBy('Title','movieid').agg(F.count(movies.rating).alias('count'), F.avg(movies.rating).alias('avg'))"
      ],
      "execution_count": 0,
      "outputs": []
    },
    {
      "cell_type": "code",
      "metadata": {
        "id": "Tl1nEdg1Pysm",
        "colab_type": "code",
        "outputId": "0117efe5-240f-471b-d82d-7eaee69be020",
        "colab": {
          "base_uri": "https://localhost:8080/",
          "height": 196
        }
      },
      "source": [
        "movies_avg.show(5)"
      ],
      "execution_count": 179,
      "outputs": [
        {
          "output_type": "stream",
          "text": [
            "+--------------------+-------+-----+------------------+\n",
            "|               Title|movieid|count|               avg|\n",
            "+--------------------+-------+-----+------------------+\n",
            "|       Sliver (1993)|   1090|   37|2.4054054054054053|\n",
            "|      Stalker (1979)|   1159|   11|3.5454545454545454|\n",
            "|    Mr. Jones (1993)|   1436|    2|               2.5|\n",
            "|World of Apu, The...|   1512|    6|               4.0|\n",
            "|Wend Kuuni (God's...|   1572|    1|               1.0|\n",
            "+--------------------+-------+-----+------------------+\n",
            "only showing top 5 rows\n",
            "\n"
          ],
          "name": "stdout"
        }
      ]
    },
    {
      "cell_type": "markdown",
      "metadata": {
        "id": "LMDiQfRRP9DL",
        "colab_type": "text"
      },
      "source": [
        "# В спарке получить 2 датафрейма с 5-ю самыми популярными и самыми непопулярными фильмами (по количеству оценок, либо по самой оценке - на Ваш выбор)"
      ]
    },
    {
      "cell_type": "code",
      "metadata": {
        "id": "dws00iJCdzvf",
        "colab_type": "code",
        "colab": {
          "base_uri": "https://localhost:8080/",
          "height": 196
        },
        "outputId": "f06a03be-0ad2-4d6d-bd7b-1e658a161217"
      },
      "source": [
        "#5 самых популярных\n",
        "movies_avg.orderBy('avg', ascending=False).show(5)"
      ],
      "execution_count": 42,
      "outputs": [
        {
          "output_type": "stream",
          "text": [
            "+--------------------+-----+---+\n",
            "|               Title|count|avg|\n",
            "+--------------------+-----+---+\n",
            "|Someone Else's Am...|    1|5.0|\n",
            "|Saint of Fort Was...|    2|5.0|\n",
            "|     Star Kid (1997)|    3|5.0|\n",
            "|Aiqing wansui (1994)|    1|5.0|\n",
            "|Marlene Dietrich:...|    1|5.0|\n",
            "+--------------------+-----+---+\n",
            "only showing top 5 rows\n",
            "\n"
          ],
          "name": "stdout"
        }
      ]
    },
    {
      "cell_type": "code",
      "metadata": {
        "id": "nRV9e7ALeF_H",
        "colab_type": "code",
        "colab": {
          "base_uri": "https://localhost:8080/",
          "height": 196
        },
        "outputId": "19306bc9-ca9c-469f-ca46-36560970dae7"
      },
      "source": [
        "#5 самых непопулярных\n",
        "movies_avg.orderBy('avg', ascending=True).show(5)"
      ],
      "execution_count": 48,
      "outputs": [
        {
          "output_type": "stream",
          "text": [
            "+--------------------+-----+---+\n",
            "|               Title|count|avg|\n",
            "+--------------------+-----+---+\n",
            "|Lashou shentan (1...|    1|1.0|\n",
            "|JLG/JLG - autopor...|    1|1.0|\n",
            "|Modern Affair, A ...|    1|1.0|\n",
            "|Vie est belle, La...|    1|1.0|\n",
            "|        Gordy (1995)|    3|1.0|\n",
            "+--------------------+-----+---+\n",
            "only showing top 5 rows\n",
            "\n"
          ],
          "name": "stdout"
        }
      ]
    },
    {
      "cell_type": "markdown",
      "metadata": {
        "id": "0lXJE7eOe_C7",
        "colab_type": "text"
      },
      "source": [
        "# Средствами спарка соедините информацию по фильмам и жанрам (u.genre)\n",
        "# 1.\t Дублирование строк в данном случае - ок.\n",
        "# 2.\tИнтересует такая структура - id фильма | название фильма | жанр"
      ]
    },
    {
      "cell_type": "code",
      "metadata": {
        "id": "Y5-JJC9Q_MzP",
        "colab_type": "code",
        "colab": {}
      },
      "source": [
        ""
      ],
      "execution_count": 0,
      "outputs": []
    },
    {
      "cell_type": "code",
      "metadata": {
        "id": "ta76E770kqt8",
        "colab_type": "code",
        "colab": {}
      },
      "source": [
        "#подскажите, пожалуйста а есть какой-то вариант не руками названия стоблцов переписывать?\n",
        "item_new = item.selectExpr('movieid','Title', \"stack(19, 'unknown', unknown,'Action', Action,'Adventure', Adventure,'Animation', Animation, 'Childrens', Childrens, 'Comedy', Comedy, 'Crime', Crime, 'Documentary', Documentary, 'Drama', Drama, 'Fantasy', Fantasy, 'FilmNoir', FilmNoir, 'Horror', Horror, 'Musical', Musical, 'Mystery', Mystery, 'Romance', Romance, 'SciFi', SciFi, 'Thriller', Thriller, 'War', War, 'Western', Western) as (Genre, Flag)\").where(\"Flag !=0\")"
      ],
      "execution_count": 0,
      "outputs": []
    },
    {
      "cell_type": "code",
      "metadata": {
        "id": "j5xCH5Fo73W4",
        "colab_type": "code",
        "colab": {
          "base_uri": "https://localhost:8080/",
          "height": 440
        },
        "outputId": "5767d03f-c409-470d-b595-ba0443e1a569"
      },
      "source": [
        "item_new.show()"
      ],
      "execution_count": 277,
      "outputs": [
        {
          "output_type": "stream",
          "text": [
            "+-------+--------------------+---------+----+\n",
            "|movieid|               Title|    Genre|Flag|\n",
            "+-------+--------------------+---------+----+\n",
            "|      1|    Toy Story (1995)|Animation|   1|\n",
            "|      1|    Toy Story (1995)|Childrens|   1|\n",
            "|      1|    Toy Story (1995)|   Comedy|   1|\n",
            "|      2|    GoldenEye (1995)|   Action|   1|\n",
            "|      2|    GoldenEye (1995)|Adventure|   1|\n",
            "|      2|    GoldenEye (1995)| Thriller|   1|\n",
            "|      3|   Four Rooms (1995)| Thriller|   1|\n",
            "|      4|   Get Shorty (1995)|   Action|   1|\n",
            "|      4|   Get Shorty (1995)|   Comedy|   1|\n",
            "|      4|   Get Shorty (1995)|    Drama|   1|\n",
            "|      5|      Copycat (1995)|    Crime|   1|\n",
            "|      5|      Copycat (1995)|    Drama|   1|\n",
            "|      5|      Copycat (1995)| Thriller|   1|\n",
            "|      6|Shanghai Triad (Y...|    Drama|   1|\n",
            "|      7|Twelve Monkeys (1...|    Drama|   1|\n",
            "|      7|Twelve Monkeys (1...|    SciFi|   1|\n",
            "|      8|         Babe (1995)|Childrens|   1|\n",
            "|      8|         Babe (1995)|   Comedy|   1|\n",
            "|      8|         Babe (1995)|    Drama|   1|\n",
            "|      9|Dead Man Walking ...|    Drama|   1|\n",
            "+-------+--------------------+---------+----+\n",
            "only showing top 20 rows\n",
            "\n"
          ],
          "name": "stdout"
        }
      ]
    },
    {
      "cell_type": "markdown",
      "metadata": {
        "id": "Bdxgh-x9vCrC",
        "colab_type": "text"
      },
      "source": [
        "# Посчитайте средствами спарка среднюю оценку для каждого жанра"
      ]
    },
    {
      "cell_type": "code",
      "metadata": {
        "id": "RLgaioWEvQXU",
        "colab_type": "code",
        "colab": {}
      },
      "source": [
        "item_new_with_ratings = item_new.join(movies_avg_df, on='movieid')"
      ],
      "execution_count": 0,
      "outputs": []
    },
    {
      "cell_type": "code",
      "metadata": {
        "id": "pqrzhZhG7pam",
        "colab_type": "code",
        "colab": {
          "base_uri": "https://localhost:8080/",
          "height": 196
        },
        "outputId": "10b871ec-bb7f-4e82-ca34-4d747e6627cf"
      },
      "source": [
        "item_new_with_ratings.show(5)"
      ],
      "execution_count": 281,
      "outputs": [
        {
          "output_type": "stream",
          "text": [
            "+-------+----------------+--------+----+----------------+-----+------------------+\n",
            "|movieid|           Title|   Genre|Flag|           Title|count|               avg|\n",
            "+-------+----------------+--------+----+----------------+-----+------------------+\n",
            "|   1090|   Sliver (1993)|Thriller|   1|   Sliver (1993)|   37|2.4054054054054053|\n",
            "|   1159|  Stalker (1979)| Mystery|   1|  Stalker (1979)|   11|3.5454545454545454|\n",
            "|   1159|  Stalker (1979)|   SciFi|   1|  Stalker (1979)|   11|3.5454545454545454|\n",
            "|   1436|Mr. Jones (1993)|   Drama|   1|Mr. Jones (1993)|    2|               2.5|\n",
            "|   1436|Mr. Jones (1993)| Romance|   1|Mr. Jones (1993)|    2|               2.5|\n",
            "+-------+----------------+--------+----+----------------+-----+------------------+\n",
            "only showing top 5 rows\n",
            "\n"
          ],
          "name": "stdout"
        }
      ]
    },
    {
      "cell_type": "code",
      "metadata": {
        "id": "tSnEdfojvDXu",
        "colab_type": "code",
        "colab": {}
      },
      "source": [
        "genre_avg = item_new_with_ratings.groupBy('Genre').agg(F.avg(item_new_with_ratings.avg).alias('avg'))"
      ],
      "execution_count": 0,
      "outputs": []
    },
    {
      "cell_type": "code",
      "metadata": {
        "id": "ks8u4R4DD3JJ",
        "colab_type": "code",
        "colab": {
          "base_uri": "https://localhost:8080/",
          "height": 407
        },
        "outputId": "2c96cc0c-ba38-4cc4-ccb5-97b6e42e0902"
      },
      "source": [
        "genre_avg.show()"
      ],
      "execution_count": 284,
      "outputs": [
        {
          "output_type": "stream",
          "text": [
            "+-----------+------------------+\n",
            "|      Genre|               avg|\n",
            "+-----------+------------------+\n",
            "|      Crime|3.2110147495997534|\n",
            "|    Romance|   3.2440490301648|\n",
            "|   Thriller| 3.136692475563834|\n",
            "|  Adventure| 3.143967313697611|\n",
            "|    unknown|2.2222222222222223|\n",
            "|      Drama| 3.187353414297331|\n",
            "|        War|3.4891854289435704|\n",
            "|Documentary|3.2292730940939407|\n",
            "|    Fantasy| 2.849830297920943|\n",
            "|   FilmNoir|3.5483508757184237|\n",
            "|    Mystery|3.3368139323830235|\n",
            "|    Musical|3.3764231235398725|\n",
            "|  Animation|3.2988130803823776|\n",
            "|     Horror| 2.730157352996138|\n",
            "|    Western| 3.185617473056144|\n",
            "|     Comedy|3.0005649618406722|\n",
            "|     Action|2.9663324037589875|\n",
            "|      SciFi|  3.16544605325129|\n",
            "|  Childrens|2.9168848918688983|\n",
            "+-----------+------------------+\n",
            "\n"
          ],
          "name": "stdout"
        }
      ]
    }
  ]
}