{
  "nbformat": 4,
  "nbformat_minor": 0,
  "metadata": {
    "colab": {
      "name": "Airbnb.ipynb",
      "provenance": [],
      "include_colab_link": true
    },
    "kernelspec": {
      "name": "python3",
      "display_name": "Python 3"
    }
  },
  "cells": [
    {
      "cell_type": "markdown",
      "metadata": {
        "id": "view-in-github",
        "colab_type": "text"
      },
      "source": [
        "<a href=\"https://colab.research.google.com/github/pank8/python/blob/master/Airbnb.ipynb\" target=\"_parent\"><img src=\"https://colab.research.google.com/assets/colab-badge.svg\" alt=\"Open In Colab\"/></a>"
      ]
    },
    {
      "cell_type": "code",
      "metadata": {
        "id": "FbroRp38G_A8",
        "colab_type": "code",
        "colab": {}
      },
      "source": [
        "import requests\n",
        "from bs4 import BeautifulSoup\n",
        "from lxml import html"
      ],
      "execution_count": 0,
      "outputs": []
    },
    {
      "cell_type": "code",
      "metadata": {
        "id": "5xltox7TLAiR",
        "colab_type": "code",
        "colab": {}
      },
      "source": [
        "url = 'https://www.airbnb.ru/rooms/32694?source_impression_id=p3_1570515854_eOFsLYakgXDDTRJt'\n",
        "headers = {\n",
        "        'User-Agent': 'Mozilla/5.0 (Macintosh; Intel Mac OS X 10.9; rv:45.0) Gecko/20100101 Firefox/45.0'\n",
        "      }\n",
        "r = requests.get(url, headers = headers)"
      ],
      "execution_count": 0,
      "outputs": []
    },
    {
      "cell_type": "code",
      "metadata": {
        "id": "2XxDOgz1MBcB",
        "colab_type": "code",
        "colab": {}
      },
      "source": [
        "text = str(html) \n",
        "soup = BeautifulSoup(text, 'html.parser')"
      ],
      "execution_count": 0,
      "outputs": []
    },
    {
      "cell_type": "code",
      "metadata": {
        "id": "HUbwvkyDHRVi",
        "colab_type": "code",
        "colab": {}
      },
      "source": [
        "name_list = soup.find('div', {'class': '_1p3joamp'})"
      ],
      "execution_count": 0,
      "outputs": []
    },
    {
      "cell_type": "code",
      "metadata": {
        "id": "Uv1odXsVKWAq",
        "colab_type": "code",
        "colab": {}
      },
      "source": [
        "date_list = soup.find('span', {'class': '_1jlnvra2'})"
      ],
      "execution_count": 0,
      "outputs": []
    },
    {
      "cell_type": "code",
      "metadata": {
        "id": "kPF0zQzcNgWd",
        "colab_type": "code",
        "colab": {}
      },
      "source": [
        "review_list = soup.find('div', {'class': '_czm8crp'})"
      ],
      "execution_count": 0,
      "outputs": []
    }
  ]
}