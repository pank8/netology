{
  "nbformat": 4,
  "nbformat_minor": 0,
  "metadata": {
    "colab": {
      "name": "Theory.ipynb",
      "provenance": [],
      "collapsed_sections": [],
      "include_colab_link": true
    },
    "kernelspec": {
      "name": "python3",
      "display_name": "Python 3"
    }
  },
  "cells": [
    {
      "cell_type": "markdown",
      "metadata": {
        "id": "view-in-github",
        "colab_type": "text"
      },
      "source": [
        "<a href=\"https://colab.research.google.com/github/pank8/python/blob/master/Theory.ipynb\" target=\"_parent\"><img src=\"https://colab.research.google.com/assets/colab-badge.svg\" alt=\"Open In Colab\"/></a>"
      ]
    },
    {
      "cell_type": "code",
      "metadata": {
        "id": "riZuWOLUEKmT",
        "colab_type": "code",
        "colab": {}
      },
      "source": [
        ""
      ],
      "execution_count": 0,
      "outputs": []
    },
    {
      "cell_type": "markdown",
      "metadata": {
        "id": "f47bPi1-ER4-",
        "colab_type": "text"
      },
      "source": [
        "# **Вы - главный по данным в среднем по объему просмотров интернет-кинотеатре. Ваша задача разработать стратегию внедрения хранилища данных и работы с большими данными в этой компании**"
      ]
    },
    {
      "cell_type": "markdown",
      "metadata": {
        "id": "8fcECm0iEXZH",
        "colab_type": "text"
      },
      "source": [
        "# Описать основные имеющиеся данные и источники их поступления"
      ]
    },
    {
      "cell_type": "markdown",
      "metadata": {
        "id": "JryPFL3WEaE5",
        "colab_type": "text"
      },
      "source": [
        "1. БД Фильмов (id фильма, жанр, год выпуска, длительность)\n",
        "2. Статистика просмотров (id клиента, id фильма, стоимость, etc.)\n",
        "3. Информация о пользователях (логин, возраст, пол, город и пр.)"
      ]
    },
    {
      "cell_type": "markdown",
      "metadata": {
        "id": "8PzLRE2EEa2N",
        "colab_type": "text"
      },
      "source": [
        "# Сформулировать цель проекта и ключевые метрики, на которые мы будем влиять"
      ]
    },
    {
      "cell_type": "markdown",
      "metadata": {
        "id": "-Xk-TlLqEcoJ",
        "colab_type": "text"
      },
      "source": [
        "Разработка стратегии внедрения базы данных для анализа покупательских предпочтений\n",
        "\n",
        "Метрики:\n",
        "частота покупок предложенных фильмов\n",
        "частота отказа от покупок предложенных фильмов"
      ]
    },
    {
      "cell_type": "markdown",
      "metadata": {
        "id": "b_gCJHFyEc5B",
        "colab_type": "text"
      },
      "source": [
        "# Описать основные сущности в хранилище данных"
      ]
    },
    {
      "cell_type": "markdown",
      "metadata": {
        "id": "DVl3JsxoEfni",
        "colab_type": "text"
      },
      "source": [
        "1. Продукт - id фильма, жанр, год выпуска, длительность\n",
        "2. Просмотры - id просмотра, id клиента, id фильма, стоимость и пр\n",
        "3. Пользователь - логин, возраст, пол, город и пр\n",
        "\n",
        "\n",
        "\n"
      ]
    },
    {
      "cell_type": "markdown",
      "metadata": {
        "id": "0bduoEqcEf1n",
        "colab_type": "text"
      },
      "source": [
        "# Описать основные проверки на качество данных (10-20 штук)"
      ]
    },
    {
      "cell_type": "markdown",
      "metadata": {
        "id": "hU2Tb5HcEhzl",
        "colab_type": "text"
      },
      "source": [
        "1. Год выпуска фильма не более текущего и не менее 1890\n",
        "2. Возраст пользователя не менее 6 лет и не более 150\n",
        "3. Стоимость фильма не менее 0 р.\n",
        "4. Длительность фильма не менее 0,1 м.\n",
        "5. id просмотра не пустое\n",
        "6. id пользователя не пустое\n",
        "7. id фильма не пустое\n",
        "8. указано время покупки\n",
        "9. указана стоимость покупки\n",
        "10. пол - одно значение\n",
        "11. город - одно значение"
      ]
    },
    {
      "cell_type": "markdown",
      "metadata": {
        "id": "XqGG-jvaEiAL",
        "colab_type": "text"
      },
      "source": [
        "# Описать основные бизнес-отчеты, которые мы сможем построить из имеющегося хранилища данных"
      ]
    },
    {
      "cell_type": "markdown",
      "metadata": {
        "id": "EIV3NymPElo3",
        "colab_type": "text"
      },
      "source": [
        "1. Отчет по прибыли по фильмам за месяц\n",
        "2. отчет о прибыли по пользователям за месяц\n",
        "3. посещаемость пользователями кинотеатра (кол-во заходов, длительность просмотров, кол-во  покупок)\n",
        "4. статистика пользовательских покупок (жанр, длительность, цена, пол, возраст, город)"
      ]
    },
    {
      "cell_type": "markdown",
      "metadata": {
        "id": "2kXxWAoEElvA",
        "colab_type": "text"
      },
      "source": [
        "# Описать основные DS-модели, которые мы сможем построить на основе имеющихся данных"
      ]
    },
    {
      "cell_type": "markdown",
      "metadata": {
        "id": "qG9SPwzzEoZk",
        "colab_type": "text"
      },
      "source": [
        "1. Прогноз продаваемости фильмов определенных жанров\n",
        "2. прогноз покупок определенного пользователя (сформировать предложение специально для него)\n",
        "3. прогноз наиболее удачного времени релиза\n"
      ]
    },
    {
      "cell_type": "markdown",
      "metadata": {
        "id": "r81ttpqSEoik",
        "colab_type": "text"
      },
      "source": [
        "# Описать источники внешних данных и какой value они смогут дать"
      ]
    },
    {
      "cell_type": "markdown",
      "metadata": {
        "id": "aCs37P2EEqr_",
        "colab_type": "text"
      },
      "source": [
        "1. Парсинг сайтов с отзывами и рейтингами - выбор фильмов для покупки лицензий\n",
        "2. Информация о датах новых релизов - определить даты покупок, подготовить необходимые документы"
      ]
    },
    {
      "cell_type": "markdown",
      "metadata": {
        "id": "kOjxhvX4Eq1R",
        "colab_type": "text"
      },
      "source": [
        "# Сформулировать MVP (первую версию) проекта и расписать его по Crisp-DM"
      ]
    },
    {
      "cell_type": "markdown",
      "metadata": {
        "id": "5d0olSy8Etit",
        "colab_type": "text"
      },
      "source": [
        "База данных, на основании которой можно предсказать потребности пользователей.\n",
        "1. Понимание бизнес-целей (Business Understanding) - сформировать предложение, актуальное и индивидуальное для каждого пользователя\n",
        "2. Начальное изучение данных (Data Understanding) - выбор данных для анализа, оценка возможности их получения\n",
        "3. Подготовка данных (Data Preparation) - создание баз данных на основании выбраннх параметров\n",
        "4. Моделирование (Modeling) - формирование предложения для группы покупателей\n",
        "5. Оценка (Evaluation) - оценка количества покупок\n",
        "6. Внедрение (Deployment) - формирование предложения для всех покупателей\n"
      ]
    }
  ]
}